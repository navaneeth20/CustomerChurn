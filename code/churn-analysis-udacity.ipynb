{
 "cells": [
  {
   "cell_type": "markdown",
   "metadata": {},
   "source": [
    "# Understanding Customer Churn "
   ]
  },
  {
   "cell_type": "markdown",
   "metadata": {},
   "source": [
    "**Author:** Robert Smith  \n",
    "\n",
    "### Data:\n",
    "\n",
    "The data is in one table called *9mo_pull.csv*, which contains data for all members who subscribed to a personal finance SaaS exactly 9 months ago. Associated with each customer is It does not contain data for members who subscribed since then. In other words, each member in the dataset has the same start date. As a result, this data is considered to be \"right censored\". \n",
    "\n",
    "### Task: \n",
    "\n",
    "Analyze churn rate for a subscription-based personal finance business. The churn rate is defined as the proportion of members who cancel their subscription. For example, a 20% churn rate can also be referred to as an 80% retention rate.\n",
    "\n",
    "### Questions to Answer: \n",
    "1. What was the churn rate over the first 8 months for each price tier?\n",
    "2. What was the average tenure for each price tier?\n",
    "3. What impact does the tier, country, and source of a customer have on their tenure and risk of customer churn? \n",
    "4. How many currently active subscriptions will still be active over the next three months (e.g. month 9, 10, 11)?\n",
    "\n",
    "### Data Dictionary:\n",
    "\n",
    "*member_id* - Unique ID of the user.  \n",
    "*tier* - Price tier (Silver, Gold, or Platinum).  \n",
    "*country* - Member country.  \n",
    "*source* - Original acquisition channel.  \n",
    "*tenure* - Number of cycles billed. Min is 1. Max is 9.  \n",
    "*active* - Is the subscription still active?  "
   ]
  },
  {
   "cell_type": "markdown",
   "metadata": {},
   "source": [
    "## 0. Import Libraries "
   ]
  },
  {
   "cell_type": "code",
   "execution_count": 1,
   "metadata": {},
   "outputs": [],
   "source": [
    "# Load Standard Libraries\n",
    "import pandas as pd\n",
    "import seaborn as sns\n",
    "from matplotlib import pyplot as plt\n",
    "import numpy as np\n",
    "\n",
    "# Set Preferred Plotting Style\n",
    "sns.set_style(\"darkgrid\")\n",
    "%matplotlib inline\n",
    "\n",
    "# Load Survival Libraries\n",
    "from lifelines.plotting import plot_lifetimes\n",
    "from lifelines import KaplanMeierFitter\n",
    "from lifelines.utils.sklearn_adapter import sklearn_adapter\n",
    "from lifelines import CoxPHFitter\n",
    "from lifelines import WeibullAFTFitter\n",
    "\n",
    "# Load Sklearn Helpers\n",
    "from sklearn.model_selection import train_test_split\n",
    "from sklearn.model_selection import GridSearchCV"
   ]
  },
  {
   "cell_type": "markdown",
   "metadata": {},
   "source": [
    "## 1. Import Data"
   ]
  },
  {
   "cell_type": "code",
   "execution_count": 2,
   "metadata": {},
   "outputs": [],
   "source": [
    "df = pd.read_csv('../data/9mo_pull.csv')"
   ]
  },
  {
   "cell_type": "markdown",
   "metadata": {},
   "source": [
    "## 2. Exploratory Data Analysis\n",
    "First, we'll check the basics of the data set including:\n",
    "\n",
    "* View of data header\n",
    "* Size\n",
    "* Data types\n",
    "* Missing values\n",
    "* Duplicates"
   ]
  },
  {
   "cell_type": "code",
   "execution_count": 3,
   "metadata": {},
   "outputs": [
    {
     "data": {
      "text/html": [
       "<div>\n",
       "<style scoped>\n",
       "    .dataframe tbody tr th:only-of-type {\n",
       "        vertical-align: middle;\n",
       "    }\n",
       "\n",
       "    .dataframe tbody tr th {\n",
       "        vertical-align: top;\n",
       "    }\n",
       "\n",
       "    .dataframe thead th {\n",
       "        text-align: right;\n",
       "    }\n",
       "</style>\n",
       "<table border=\"1\" class=\"dataframe\">\n",
       "  <thead>\n",
       "    <tr style=\"text-align: right;\">\n",
       "      <th></th>\n",
       "      <th>member_id</th>\n",
       "      <th>tier</th>\n",
       "      <th>country</th>\n",
       "      <th>source</th>\n",
       "      <th>tenure</th>\n",
       "      <th>active</th>\n",
       "    </tr>\n",
       "  </thead>\n",
       "  <tbody>\n",
       "    <tr>\n",
       "      <th>0</th>\n",
       "      <td>12428284</td>\n",
       "      <td>Platinum</td>\n",
       "      <td>Germany</td>\n",
       "      <td>referral</td>\n",
       "      <td>6</td>\n",
       "      <td>0</td>\n",
       "    </tr>\n",
       "    <tr>\n",
       "      <th>1</th>\n",
       "      <td>39743027</td>\n",
       "      <td>Platinum</td>\n",
       "      <td>France</td>\n",
       "      <td>referral</td>\n",
       "      <td>1</td>\n",
       "      <td>0</td>\n",
       "    </tr>\n",
       "    <tr>\n",
       "      <th>2</th>\n",
       "      <td>59559187</td>\n",
       "      <td>Silver</td>\n",
       "      <td>UK</td>\n",
       "      <td>organic</td>\n",
       "      <td>1</td>\n",
       "      <td>0</td>\n",
       "    </tr>\n",
       "    <tr>\n",
       "      <th>3</th>\n",
       "      <td>46170183</td>\n",
       "      <td>Silver</td>\n",
       "      <td>UK</td>\n",
       "      <td>organic</td>\n",
       "      <td>4</td>\n",
       "      <td>0</td>\n",
       "    </tr>\n",
       "    <tr>\n",
       "      <th>4</th>\n",
       "      <td>14600427</td>\n",
       "      <td>Gold</td>\n",
       "      <td>France</td>\n",
       "      <td>organic</td>\n",
       "      <td>1</td>\n",
       "      <td>0</td>\n",
       "    </tr>\n",
       "  </tbody>\n",
       "</table>\n",
       "</div>"
      ],
      "text/plain": [
       "   member_id      tier  country    source  tenure  active\n",
       "0   12428284  Platinum  Germany  referral       6       0\n",
       "1   39743027  Platinum   France  referral       1       0\n",
       "2   59559187    Silver       UK   organic       1       0\n",
       "3   46170183    Silver       UK   organic       4       0\n",
       "4   14600427      Gold   France   organic       1       0"
      ]
     },
     "execution_count": 3,
     "metadata": {},
     "output_type": "execute_result"
    }
   ],
   "source": [
    "df.head()"
   ]
  },
  {
   "cell_type": "code",
   "execution_count": 4,
   "metadata": {},
   "outputs": [
    {
     "data": {
      "text/plain": [
       "(99944, 6)"
      ]
     },
     "execution_count": 4,
     "metadata": {},
     "output_type": "execute_result"
    }
   ],
   "source": [
    "df.shape"
   ]
  },
  {
   "cell_type": "code",
   "execution_count": 5,
   "metadata": {},
   "outputs": [
    {
     "data": {
      "text/plain": [
       "member_id     int64\n",
       "tier         object\n",
       "country      object\n",
       "source       object\n",
       "tenure        int64\n",
       "active        int64\n",
       "dtype: object"
      ]
     },
     "execution_count": 5,
     "metadata": {},
     "output_type": "execute_result"
    }
   ],
   "source": [
    "df.dtypes"
   ]
  },
  {
   "cell_type": "code",
   "execution_count": 6,
   "metadata": {},
   "outputs": [
    {
     "data": {
      "text/plain": [
       "member_id    0.0\n",
       "tier         0.0\n",
       "country      0.0\n",
       "source       0.0\n",
       "tenure       0.0\n",
       "active       0.0\n",
       "dtype: float64"
      ]
     },
     "execution_count": 6,
     "metadata": {},
     "output_type": "execute_result"
    }
   ],
   "source": [
    "df.isnull().mean() # No missing data - it's a miracle! "
   ]
  },
  {
   "cell_type": "code",
   "execution_count": 7,
   "metadata": {},
   "outputs": [
    {
     "data": {
      "text/html": [
       "<div>\n",
       "<style scoped>\n",
       "    .dataframe tbody tr th:only-of-type {\n",
       "        vertical-align: middle;\n",
       "    }\n",
       "\n",
       "    .dataframe tbody tr th {\n",
       "        vertical-align: top;\n",
       "    }\n",
       "\n",
       "    .dataframe thead th {\n",
       "        text-align: right;\n",
       "    }\n",
       "</style>\n",
       "<table border=\"1\" class=\"dataframe\">\n",
       "  <thead>\n",
       "    <tr style=\"text-align: right;\">\n",
       "      <th></th>\n",
       "      <th>member_id</th>\n",
       "      <th>tier</th>\n",
       "      <th>country</th>\n",
       "      <th>source</th>\n",
       "      <th>tenure</th>\n",
       "      <th>active</th>\n",
       "    </tr>\n",
       "  </thead>\n",
       "  <tbody>\n",
       "  </tbody>\n",
       "</table>\n",
       "</div>"
      ],
      "text/plain": [
       "Empty DataFrame\n",
       "Columns: [member_id, tier, country, source, tenure, active]\n",
       "Index: []"
      ]
     },
     "execution_count": 7,
     "metadata": {},
     "output_type": "execute_result"
    }
   ],
   "source": [
    "df[df[\"member_id\"].duplicated(keep = False)] # No duplicate member_ids - another miracle! "
   ]
  },
  {
   "cell_type": "markdown",
   "metadata": {},
   "source": [
    "Now that we've checked the basic structure of the dataset - let's look at the retention rate across the three categorical variables (country, source, tenure). We'll first write a helper function to assist with creating the plots..."
   ]
  },
  {
   "cell_type": "code",
   "execution_count": 8,
   "metadata": {},
   "outputs": [],
   "source": [
    "def churn_rate_plots(segment_by):\n",
    "    \"\"\"Convenience function for plotting segmented churn rates\n",
    "    Args:\n",
    "        segment_by (string): Categorical feature to segment churn rates\n",
    "    \n",
    "    Returns:\n",
    "        Plot of the number of customers and proportion active by level in segment.\n",
    "    \n",
    "    \"\"\"\n",
    "    # Initialize sub-plots for 2 columns\n",
    "    fig, (ax1, ax2) = plt.subplots(ncols=2, sharey=False, figsize=(14,6))\n",
    "    \n",
    "    # On the left, plot the distribution\n",
    "    sns.countplot(x=segment_by, data=df, ax=ax1)\n",
    "    ax1.title.set_text(f\"# Customers by {segment_by}\")\n",
    "    \n",
    "    # On the right, plot the retention rate\n",
    "    sns.barplot(x=segment_by, y='active', data=df, ax=ax2)\n",
    "    ax2.title.set_text(f\"Proportion of Active Customers by {segment_by}\")\n",
    "    \n",
    "    # Set title\n",
    "    plt.suptitle('Retention Rate by {}'.format(segment_by.capitalize()))\n",
    "    plt.show()"
   ]
  },
  {
   "cell_type": "markdown",
   "metadata": {},
   "source": [
    "When evaluating the customers by country, the most common locations include Germany, the UK, and the US. However - these locations are not associated with longer tenure. The Netherlands and Canada are clear outliers, with over 15% of their customers still retained after 9 months, roughly 3x all other countries. "
   ]
  },
  {
   "cell_type": "code",
   "execution_count": 9,
   "metadata": {
    "scrolled": true
   },
   "outputs": [
    {
     "data": {
      "image/png": "[encoded data removed]",
      "text/plain": [
       "<Figure size 1008x432 with 2 Axes>"
      ]
     },
     "metadata": {
      "needs_background": "light"
     },
     "output_type": "display_data"
    }
   ],
   "source": [
    "churn_rate_plots('country')"
   ]
  },
  {
   "cell_type": "markdown",
   "metadata": {},
   "source": [
    "When evaluating the customers by their source, the most common source by far is organic. However, the organically sourced customers are associated with the shortest tenure. Customers enrolled via a referral have over 30% enrollment after 9 months. Customers enrolling through a partner are about half of their referred counterparts, with a retention rate of approximately 15% after 9 months. "
   ]
  },
  {
   "cell_type": "code",
   "execution_count": 10,
   "metadata": {
    "scrolled": true
   },
   "outputs": [
    {
     "data": {
      "image/png": "[encoded data removed]",
      "text/plain": [
       "<Figure size 1008x432 with 2 Axes>"
      ]
     },
     "metadata": {
      "needs_background": "light"
     },
     "output_type": "display_data"
    }
   ],
   "source": [
    "churn_rate_plots('source')"
   ]
  },
  {
   "cell_type": "markdown",
   "metadata": {},
   "source": [
    "When evaluating customers by their enrolled tier, we see that the Gold tier is the most popular. However, the Silver tier has the highest retention rate after 8 months."
   ]
  },
  {
   "cell_type": "code",
   "execution_count": 11,
   "metadata": {},
   "outputs": [
    {
     "data": {
      "image/png": "[encoded data removed]",
      "text/plain": [
       "<Figure size 1008x432 with 2 Axes>"
      ]
     },
     "metadata": {
      "needs_background": "light"
     },
     "output_type": "display_data"
    }
   ],
   "source": [
    "churn_rate_plots('tier')"
   ]
  },
  {
   "cell_type": "markdown",
   "metadata": {},
   "source": [
    "The graph below shows that the vast majority of the subscriptions only last 1 month. Only a small fraction actually make it to month 9! Note that all of the customers in month 9 are active, thus we only know of customers that have churned through month 8."
   ]
  },
  {
   "cell_type": "code",
   "execution_count": 12,
   "metadata": {},
   "outputs": [
    {
     "data": {
      "image/png": "[encoded data removed]",
      "text/plain": [
       "<Figure size 1008x432 with 1 Axes>"
      ]
     },
     "metadata": {
      "needs_background": "light"
     },
     "output_type": "display_data"
    }
   ],
   "source": [
    "plt.figure(figsize = (14,6))\n",
    "sns.countplot(x=\"tenure\", hue = \"active\", data = df)\n",
    "plt.title(\"# Customers by their Tenure\");"
   ]
  },
  {
   "cell_type": "markdown",
   "metadata": {},
   "source": [
    "Now that we've thoroughly explored our data set, we can almost answer our first question. First, a \"churn column\" will be created to more easily calculate the average churn rate.\n",
    "\n",
    "## 3. Data Cleaning"
   ]
  },
  {
   "cell_type": "code",
   "execution_count": 13,
   "metadata": {},
   "outputs": [],
   "source": [
    "df[\"churn\"] = np.where(df['active'] == 1, False ,True)"
   ]
  },
  {
   "cell_type": "markdown",
   "metadata": {},
   "source": [
    "## Q1: What was the churn rate over the last 9 months for each price tier?"
   ]
  },
  {
   "cell_type": "code",
   "execution_count": 14,
   "metadata": {},
   "outputs": [],
   "source": [
    "# Increase font-size\n",
    "plt.rcParams.update({'font.size': 12})\n",
    "\n",
    "# Create function to help with labeling plots\n",
    "def autolabel(bar_plot):\n",
    "    \"\"\" Convenience function to add labels to bar chart.\n",
    "    Args:\n",
    "        bar_plot (plot): Matplotlib bar plot object\n",
    "    \n",
    "    Returns:\n",
    "        Labelled bar plot\n",
    "    \"\"\"\n",
    "    \n",
    "    for idx,rect in enumerate(bar_plot):\n",
    "        height = rect.get_height()\n",
    "        ax.text(rect.get_x() + rect.get_width()/2., 1.01*height,\n",
    "                round(height,2),\n",
    "                ha='center', va='bottom', rotation=0)"
   ]
  },
  {
   "cell_type": "code",
   "execution_count": 15,
   "metadata": {},
   "outputs": [
    {
     "data": {
      "image/png": "[encoded data removed]",
      "text/plain": [
       "<Figure size 1008x432 with 1 Axes>"
      ]
     },
     "metadata": {
      "needs_background": "light"
     },
     "output_type": "display_data"
    }
   ],
   "source": [
    "churn_by_tier = df.groupby(['tier'])['churn'].mean()\n",
    "fig, ax = plt.subplots(figsize=(14,6))\n",
    "bar_plot = plt.bar(churn_by_tier.index, churn_by_tier.values)\n",
    "plt.title(\"Churn Rate by Tier\")\n",
    "plt.ylabel(\"Proportion\")\n",
    "plt.xlabel(\"Tier\")\n",
    "autolabel(bar_plot)"
   ]
  },
  {
   "cell_type": "markdown",
   "metadata": {},
   "source": [
    "* The Gold tier had churn rate of 96% after 9 months.\n",
    "* The Platinum tier had a churn rate of 99% after 9 months.\n",
    "* The Silver tier had a churn rate of 82% after 9 months."
   ]
  },
  {
   "cell_type": "markdown",
   "metadata": {},
   "source": [
    "## Q2: What was the average tenure for each price tier?"
   ]
  },
  {
   "cell_type": "code",
   "execution_count": 16,
   "metadata": {},
   "outputs": [
    {
     "data": {
      "image/png": "[encoded data removed]",
      "text/plain": [
       "<Figure size 1008x432 with 1 Axes>"
      ]
     },
     "metadata": {
      "needs_background": "light"
     },
     "output_type": "display_data"
    }
   ],
   "source": [
    "tenure_by_tier = df.groupby(['tier'])['tenure'].mean()\n",
    "fig, ax = plt.subplots(figsize=(14,6))\n",
    "bar_plot = plt.bar(tenure_by_tier.index, tenure_by_tier.values)\n",
    "plt.title(\"Average Tenure by Tier\")\n",
    "plt.ylabel(\"Tenure (Months)\")\n",
    "plt.xlabel(\"Tier\")\n",
    "autolabel(bar_plot)"
   ]
  },
  {
   "cell_type": "markdown",
   "metadata": {},
   "source": [
    "* The Gold tier had a tenure of 2.14 months on average.\n",
    "* The Platinum tier had a tenure of 1.47 months on average.\n",
    "* The Silver tier had a tenure of 3.84 months on average."
   ]
  },
  {
   "cell_type": "markdown",
   "metadata": {},
   "source": [
    "## 4. Kaplan-Meier Survival Curves"
   ]
  },
  {
   "cell_type": "markdown",
   "metadata": {},
   "source": [
    "The last data exploration technique to look at before modeling is generating [Kaplan-Meier](https://en.wikipedia.org/wiki/Kaplan–Meier_estimator) curves for the three categorical features. These curves are helpful in understanding the probability of \"survivial\" (e.g. the probability of the customer not churning) by month. First we'll create a function to help with plotting the curves..."
   ]
  },
  {
   "cell_type": "code",
   "execution_count": 17,
   "metadata": {},
   "outputs": [],
   "source": [
    "def km_plot(df, feature):\n",
    "    \"\"\"Plots Kaplan-Meier curve.\n",
    "    \n",
    "    Args:\n",
    "        df (dataframe): Dataframe with right-censored data.\n",
    "        feature (string): Feature used to segment plot\n",
    "    \n",
    "    Returns:\n",
    "        Segmented Kaplan-Meier curve.\n",
    "    \"\"\"\n",
    "    \n",
    "    kmf = KaplanMeierFitter()\n",
    "    X = df[[\"tier\", \"source\", \"country\"]]\n",
    "    y = df[[\"churn\", \"tenure\"]]\n",
    "    plt.figure(figsize = (14,6))\n",
    "    for value in X[feature].unique():\n",
    "        index = X[feature] == value\n",
    "        kmf.fit(y.loc[index,\"tenure\"], y.loc[index, \"churn\"], label = value)\n",
    "        kmf.plot()\n",
    "    plt.title(f\"Kaplan-Meier Curve by {feature}\")\n",
    "    plt.ylabel(\"Est. Probability of Survival $\\hat{S}(t)$\")\n",
    "    plt.xlabel(\"time $t$\")"
   ]
  },
  {
   "cell_type": "markdown",
   "metadata": {},
   "source": [
    "In all of the following curves, there is significant attrition after the first month. The best survival curve for customers are those that are in the silver tier, referred to the product, and are either from Canada or the Netherlands."
   ]
  },
  {
   "cell_type": "code",
   "execution_count": 18,
   "metadata": {},
   "outputs": [
    {
     "data": {
      "image/png": "[encoded data removed]",
      "text/plain": [
       "<Figure size 1008x432 with 1 Axes>"
      ]
     },
     "metadata": {
      "needs_background": "light"
     },
     "output_type": "display_data"
    }
   ],
   "source": [
    "km_plot(df, \"tier\")"
   ]
  },
  {
   "cell_type": "code",
   "execution_count": 19,
   "metadata": {},
   "outputs": [
    {
     "data": {
      "image/png": "[encoded data removed]",
      "text/plain": [
       "<Figure size 1008x432 with 1 Axes>"
      ]
     },
     "metadata": {
      "needs_background": "light"
     },
     "output_type": "display_data"
    }
   ],
   "source": [
    "km_plot(df, \"source\")"
   ]
  },
  {
   "cell_type": "code",
   "execution_count": 20,
   "metadata": {},
   "outputs": [
    {
     "data": {
      "image/png": "[encoded data removed]",
      "text/plain": [
       "<Figure size 1008x432 with 1 Axes>"
      ]
     },
     "metadata": {
      "needs_background": "light"
     },
     "output_type": "display_data"
    }
   ],
   "source": [
    "km_plot(df, \"country\")"
   ]
  },
  {
   "cell_type": "markdown",
   "metadata": {},
   "source": [
    "## 5. Survival Modeling\n",
    "\n",
    "In order to answer the last few business questions, a model needs to be constructed in order to forecast the following few months of customer churn. In this case we'll use a [survival modeling](https://en.wikipedia.org/wiki/Survival_analysis) approach, which is useful for \"time to event\" data. The modeling creates a \"survival curve\", which is the probability the customer survives past a certain time period, given a set of covariates. In the case of this data set, the event is `churn`. Customers that have not experienced the event are considered a \"censored\" record. "
   ]
  },
  {
   "cell_type": "code",
   "execution_count": 21,
   "metadata": {},
   "outputs": [
    {
     "name": "stdout",
     "output_type": "stream",
     "text": [
      "7.5% of records are censored.\n"
     ]
    }
   ],
   "source": [
    "n_censored = df.shape[0] - df[\"churn\"].sum()\n",
    "print(\"%.1f%% of records are censored.\" % (n_censored / df.shape[0] * 100))"
   ]
  },
  {
   "cell_type": "code",
   "execution_count": 22,
   "metadata": {},
   "outputs": [
    {
     "data": {
      "text/html": [
       "<div>\n",
       "<style scoped>\n",
       "    .dataframe tbody tr th:only-of-type {\n",
       "        vertical-align: middle;\n",
       "    }\n",
       "\n",
       "    .dataframe tbody tr th {\n",
       "        vertical-align: top;\n",
       "    }\n",
       "\n",
       "    .dataframe thead th {\n",
       "        text-align: right;\n",
       "    }\n",
       "</style>\n",
       "<table border=\"1\" class=\"dataframe\">\n",
       "  <thead>\n",
       "    <tr style=\"text-align: right;\">\n",
       "      <th></th>\n",
       "      <th>member_id</th>\n",
       "      <th>tier</th>\n",
       "      <th>country</th>\n",
       "      <th>source</th>\n",
       "      <th>tenure</th>\n",
       "      <th>active</th>\n",
       "      <th>churn</th>\n",
       "    </tr>\n",
       "  </thead>\n",
       "  <tbody>\n",
       "    <tr>\n",
       "      <th>0</th>\n",
       "      <td>12428284</td>\n",
       "      <td>Platinum</td>\n",
       "      <td>Germany</td>\n",
       "      <td>referral</td>\n",
       "      <td>6</td>\n",
       "      <td>0</td>\n",
       "      <td>True</td>\n",
       "    </tr>\n",
       "    <tr>\n",
       "      <th>1</th>\n",
       "      <td>39743027</td>\n",
       "      <td>Platinum</td>\n",
       "      <td>France</td>\n",
       "      <td>referral</td>\n",
       "      <td>1</td>\n",
       "      <td>0</td>\n",
       "      <td>True</td>\n",
       "    </tr>\n",
       "    <tr>\n",
       "      <th>2</th>\n",
       "      <td>59559187</td>\n",
       "      <td>Silver</td>\n",
       "      <td>UK</td>\n",
       "      <td>organic</td>\n",
       "      <td>1</td>\n",
       "      <td>0</td>\n",
       "      <td>True</td>\n",
       "    </tr>\n",
       "    <tr>\n",
       "      <th>3</th>\n",
       "      <td>46170183</td>\n",
       "      <td>Silver</td>\n",
       "      <td>UK</td>\n",
       "      <td>organic</td>\n",
       "      <td>4</td>\n",
       "      <td>0</td>\n",
       "      <td>True</td>\n",
       "    </tr>\n",
       "    <tr>\n",
       "      <th>4</th>\n",
       "      <td>14600427</td>\n",
       "      <td>Gold</td>\n",
       "      <td>France</td>\n",
       "      <td>organic</td>\n",
       "      <td>1</td>\n",
       "      <td>0</td>\n",
       "      <td>True</td>\n",
       "    </tr>\n",
       "  </tbody>\n",
       "</table>\n",
       "</div>"
      ],
      "text/plain": [
       "   member_id      tier  country    source  tenure  active  churn\n",
       "0   12428284  Platinum  Germany  referral       6       0   True\n",
       "1   39743027  Platinum   France  referral       1       0   True\n",
       "2   59559187    Silver       UK   organic       1       0   True\n",
       "3   46170183    Silver       UK   organic       4       0   True\n",
       "4   14600427      Gold   France   organic       1       0   True"
      ]
     },
     "execution_count": 22,
     "metadata": {},
     "output_type": "execute_result"
    }
   ],
   "source": [
    "df.head()"
   ]
  },
  {
   "cell_type": "markdown",
   "metadata": {},
   "source": [
    "First, split up the data into X and y and create training and testing data sets"
   ]
  },
  {
   "cell_type": "code",
   "execution_count": 23,
   "metadata": {},
   "outputs": [],
   "source": [
    "X = df[[\"tier\", \"country\", \"source\", \"churn\"]]\n",
    "X = pd.get_dummies(X, drop_first=True) # Need to convert into dummy variables \n",
    "\n",
    "y = df[\"tenure\"]\n",
    "\n",
    "X_train, X_test, y_train, y_test = train_test_split(X, y, test_size = 0.2, random_state = 42)"
   ]
  },
  {
   "cell_type": "markdown",
   "metadata": {},
   "source": [
    "Next, the survival model is instantiated. Two survival models were explored that are well suited for extrapolation:\n",
    "\n",
    "* **Modified Cox Proportional Hazard Model**: A modified version of the Cox Proportional Hazards model where the baseline hazard includes cubic spline terms. This model allows for extrapolation, but its predictions vary widely depending on the number of splines used (while still reporting very similar concordance indices). \n",
    "\n",
    "* **Weibull Accelerated Failure Time Model**: A parameteric survival analysis model based on the Weibull distribution. \n"
   ]
  },
  {
   "cell_type": "markdown",
   "metadata": {},
   "source": [
    "### Weibull Accelerated Failure Time Modeling "
   ]
  },
  {
   "cell_type": "code",
   "execution_count": 24,
   "metadata": {},
   "outputs": [
    {
     "data": {
      "text/html": [
       "<div>\n",
       "<style scoped>\n",
       "    .dataframe tbody tr th:only-of-type {\n",
       "        vertical-align: middle;\n",
       "    }\n",
       "\n",
       "    .dataframe tbody tr th {\n",
       "        vertical-align: top;\n",
       "    }\n",
       "\n",
       "    .dataframe thead th {\n",
       "        text-align: right;\n",
       "    }\n",
       "</style>\n",
       "<table border=\"1\" class=\"dataframe\">\n",
       "  <thead>\n",
       "    <tr style=\"text-align: right;\">\n",
       "      <th></th>\n",
       "      <th>Model</th>\n",
       "      <th>Best Parameters</th>\n",
       "      <th>Train Concordance Index</th>\n",
       "      <th>Test Concordance Index</th>\n",
       "      <th>AIC</th>\n",
       "      <th>Test Log-Likelihood</th>\n",
       "    </tr>\n",
       "  </thead>\n",
       "  <tbody>\n",
       "    <tr>\n",
       "      <th>0</th>\n",
       "      <td>weibull_aft</td>\n",
       "      <td>{'alpha': 0.05, 'penalizer': 0.1, 'l1_ratio': ...</td>\n",
       "      <td>0.679735</td>\n",
       "      <td>0.679859</td>\n",
       "      <td>276007.200008</td>\n",
       "      <td>-1.678299</td>\n",
       "    </tr>\n",
       "  </tbody>\n",
       "</table>\n",
       "</div>"
      ],
      "text/plain": [
       "         Model                                    Best Parameters  \\\n",
       "0  weibull_aft  {'alpha': 0.05, 'penalizer': 0.1, 'l1_ratio': ...   \n",
       "\n",
       "   Train Concordance Index  Test Concordance Index            AIC  \\\n",
       "0                 0.679735                0.679859  276007.200008   \n",
       "\n",
       "   Test Log-Likelihood  \n",
       "0            -1.678299  "
      ]
     },
     "execution_count": 24,
     "metadata": {},
     "output_type": "execute_result"
    }
   ],
   "source": [
    "# Instantiate the class\n",
    "aft_class = sklearn_adapter(WeibullAFTFitter, event_col='churn')\n",
    "aft = aft_class()\n",
    "\n",
    "# Set-up parameter grid\n",
    "aft_params = {\"penalizer\": list(10.**np.arange(-4,1,1)),\n",
    "              \"l1_ratio\": [0, 1/3, 2/3, 1]}\n",
    "    \n",
    "# Set-up 5-fold cross-validation grid search\n",
    "gcv = GridSearchCV(aft, aft_params, return_train_score=True, cv=5)\n",
    "\n",
    "# Fit model\n",
    "gcv.fit(X_train, y_train)\n",
    "\n",
    "# Save model parameters and training concordance index\n",
    "params = gcv.best_estimator_.get_params()\n",
    "train_score = gcv.best_score_\n",
    "    \n",
    "# Check out-of-sample concordance index\n",
    "test_score = gcv.score(X_test,y_test)\n",
    "\n",
    "# Due to limitations of sklearn wrapper - the model will be re-instantiated using lifelines\n",
    "aft_model = WeibullAFTFitter(penalizer = params[\"penalizer\"], l1_ratio = params[\"l1_ratio\"])\n",
    "aft_model.fit(pd.concat([X_train,y_train], axis = 1), duration_col = \"tenure\", event_col = \"churn\")\n",
    "    \n",
    "# Save AIC \n",
    "aic = aft_model.AIC_\n",
    "\n",
    "# Get log-likelihood score on test set\n",
    "log_likelihood_test_score = aft_model.score(pd.concat([X_test, y_test], axis = 1))\n",
    "    \n",
    "aft_results = [\"weibull_aft\", params, train_score, test_score, aic, log_likelihood_test_score]\n",
    "col_names = [\"Model\", \"Best Parameters\", \"Train Concordance Index\", \n",
    "           \"Test Concordance Index\", \"AIC\", \"Test Log-Likelihood\"]\n",
    "\n",
    "pd.DataFrame([aft_results], columns = col_names)"
   ]
  },
  {
   "cell_type": "code",
   "execution_count": 25,
   "metadata": {},
   "outputs": [
    {
     "data": {
      "text/html": [
       "<div>\n",
       "<style scoped>\n",
       "    .dataframe tbody tr th:only-of-type {\n",
       "        vertical-align: middle;\n",
       "    }\n",
       "\n",
       "    .dataframe tbody tr th {\n",
       "        vertical-align: top;\n",
       "    }\n",
       "\n",
       "    .dataframe thead th {\n",
       "        text-align: right;\n",
       "    }\n",
       "</style>\n",
       "<table border=\"1\" class=\"dataframe\">\n",
       "  <tbody>\n",
       "    <tr>\n",
       "      <th>model</th>\n",
       "      <td>lifelines.WeibullAFTFitter</td>\n",
       "    </tr>\n",
       "    <tr>\n",
       "      <th>duration col</th>\n",
       "      <td>'tenure'</td>\n",
       "    </tr>\n",
       "    <tr>\n",
       "      <th>event col</th>\n",
       "      <td>'churn'</td>\n",
       "    </tr>\n",
       "    <tr>\n",
       "      <th>penalizer</th>\n",
       "      <td>0.1</td>\n",
       "    </tr>\n",
       "    <tr>\n",
       "      <th>number of observations</th>\n",
       "      <td>79955</td>\n",
       "    </tr>\n",
       "    <tr>\n",
       "      <th>number of events observed</th>\n",
       "      <td>73983</td>\n",
       "    </tr>\n",
       "    <tr>\n",
       "      <th>log-likelihood</th>\n",
       "      <td>-137990.60</td>\n",
       "    </tr>\n",
       "    <tr>\n",
       "      <th>time fit was run</th>\n",
       "      <td>2020-09-04 02:25:04 UTC</td>\n",
       "    </tr>\n",
       "  </tbody>\n",
       "</table>\n",
       "</div><table border=\"1\" class=\"dataframe\">\n",
       "  <thead>\n",
       "    <tr style=\"text-align: right;\">\n",
       "      <th style=\"min-width: 12px;\"></th>\n",
       "      <th style=\"min-width: 12px;\"></th>\n",
       "      <th style=\"min-width: 12px;\">coef</th>\n",
       "      <th style=\"min-width: 12px;\">exp(coef)</th>\n",
       "      <th style=\"min-width: 12px;\">se(coef)</th>\n",
       "      <th style=\"min-width: 12px;\">coef lower 95%</th>\n",
       "      <th style=\"min-width: 12px;\">coef upper 95%</th>\n",
       "      <th style=\"min-width: 12px;\">exp(coef) lower 95%</th>\n",
       "      <th style=\"min-width: 12px;\">exp(coef) upper 95%</th>\n",
       "      <th style=\"min-width: 12px;\">z</th>\n",
       "      <th style=\"min-width: 12px;\">p</th>\n",
       "      <th style=\"min-width: 12px;\">-log2(p)</th>\n",
       "    </tr>\n",
       "  </thead>\n",
       "  <tbody>\n",
       "    <tr>\n",
       "      <th rowspan=\"12\" valign=\"top\">lambda_</th>\n",
       "      <th>country_France</th>\n",
       "      <td>-0.24</td>\n",
       "      <td>0.79</td>\n",
       "      <td>0.01</td>\n",
       "      <td>-0.26</td>\n",
       "      <td>-0.22</td>\n",
       "      <td>0.77</td>\n",
       "      <td>0.80</td>\n",
       "      <td>-20.06</td>\n",
       "      <td>&lt;0.005</td>\n",
       "      <td>294.93</td>\n",
       "    </tr>\n",
       "    <tr>\n",
       "      <th>country_Germany</th>\n",
       "      <td>-0.00</td>\n",
       "      <td>1.00</td>\n",
       "      <td>0.01</td>\n",
       "      <td>-0.02</td>\n",
       "      <td>0.02</td>\n",
       "      <td>0.98</td>\n",
       "      <td>1.02</td>\n",
       "      <td>-0.00</td>\n",
       "      <td>1.00</td>\n",
       "      <td>0.00</td>\n",
       "    </tr>\n",
       "    <tr>\n",
       "      <th>country_Italy</th>\n",
       "      <td>-0.24</td>\n",
       "      <td>0.79</td>\n",
       "      <td>0.01</td>\n",
       "      <td>-0.26</td>\n",
       "      <td>-0.21</td>\n",
       "      <td>0.77</td>\n",
       "      <td>0.81</td>\n",
       "      <td>-19.34</td>\n",
       "      <td>&lt;0.005</td>\n",
       "      <td>274.29</td>\n",
       "    </tr>\n",
       "    <tr>\n",
       "      <th>country_Netherlands</th>\n",
       "      <td>0.07</td>\n",
       "      <td>1.07</td>\n",
       "      <td>0.01</td>\n",
       "      <td>0.04</td>\n",
       "      <td>0.09</td>\n",
       "      <td>1.05</td>\n",
       "      <td>1.10</td>\n",
       "      <td>5.74</td>\n",
       "      <td>&lt;0.005</td>\n",
       "      <td>26.70</td>\n",
       "    </tr>\n",
       "    <tr>\n",
       "      <th>country_Spain</th>\n",
       "      <td>-0.25</td>\n",
       "      <td>0.78</td>\n",
       "      <td>0.01</td>\n",
       "      <td>-0.27</td>\n",
       "      <td>-0.23</td>\n",
       "      <td>0.76</td>\n",
       "      <td>0.80</td>\n",
       "      <td>-20.22</td>\n",
       "      <td>&lt;0.005</td>\n",
       "      <td>299.67</td>\n",
       "    </tr>\n",
       "    <tr>\n",
       "      <th>country_UK</th>\n",
       "      <td>0.00</td>\n",
       "      <td>1.00</td>\n",
       "      <td>0.01</td>\n",
       "      <td>-0.02</td>\n",
       "      <td>0.02</td>\n",
       "      <td>0.98</td>\n",
       "      <td>1.02</td>\n",
       "      <td>0.00</td>\n",
       "      <td>1.00</td>\n",
       "      <td>0.00</td>\n",
       "    </tr>\n",
       "    <tr>\n",
       "      <th>country_US</th>\n",
       "      <td>0.00</td>\n",
       "      <td>1.00</td>\n",
       "      <td>0.01</td>\n",
       "      <td>-0.02</td>\n",
       "      <td>0.02</td>\n",
       "      <td>0.98</td>\n",
       "      <td>1.02</td>\n",
       "      <td>0.00</td>\n",
       "      <td>1.00</td>\n",
       "      <td>0.00</td>\n",
       "    </tr>\n",
       "    <tr>\n",
       "      <th>source_partnerships</th>\n",
       "      <td>0.47</td>\n",
       "      <td>1.60</td>\n",
       "      <td>0.01</td>\n",
       "      <td>0.45</td>\n",
       "      <td>0.48</td>\n",
       "      <td>1.57</td>\n",
       "      <td>1.62</td>\n",
       "      <td>56.39</td>\n",
       "      <td>&lt;0.005</td>\n",
       "      <td>inf</td>\n",
       "    </tr>\n",
       "    <tr>\n",
       "      <th>source_referral</th>\n",
       "      <td>1.00</td>\n",
       "      <td>2.72</td>\n",
       "      <td>0.01</td>\n",
       "      <td>0.98</td>\n",
       "      <td>1.03</td>\n",
       "      <td>2.65</td>\n",
       "      <td>2.79</td>\n",
       "      <td>75.66</td>\n",
       "      <td>&lt;0.005</td>\n",
       "      <td>inf</td>\n",
       "    </tr>\n",
       "    <tr>\n",
       "      <th>tier_Platinum</th>\n",
       "      <td>-0.33</td>\n",
       "      <td>0.72</td>\n",
       "      <td>0.01</td>\n",
       "      <td>-0.35</td>\n",
       "      <td>-0.31</td>\n",
       "      <td>0.71</td>\n",
       "      <td>0.73</td>\n",
       "      <td>-35.73</td>\n",
       "      <td>&lt;0.005</td>\n",
       "      <td>926.49</td>\n",
       "    </tr>\n",
       "    <tr>\n",
       "      <th>tier_Silver</th>\n",
       "      <td>0.68</td>\n",
       "      <td>1.97</td>\n",
       "      <td>0.01</td>\n",
       "      <td>0.67</td>\n",
       "      <td>0.69</td>\n",
       "      <td>1.95</td>\n",
       "      <td>2.00</td>\n",
       "      <td>103.62</td>\n",
       "      <td>&lt;0.005</td>\n",
       "      <td>inf</td>\n",
       "    </tr>\n",
       "    <tr>\n",
       "      <th>Intercept</th>\n",
       "      <td>0.78</td>\n",
       "      <td>2.18</td>\n",
       "      <td>0.01</td>\n",
       "      <td>0.76</td>\n",
       "      <td>0.80</td>\n",
       "      <td>2.14</td>\n",
       "      <td>2.22</td>\n",
       "      <td>84.58</td>\n",
       "      <td>&lt;0.005</td>\n",
       "      <td>inf</td>\n",
       "    </tr>\n",
       "    <tr>\n",
       "      <th>rho_</th>\n",
       "      <th>Intercept</th>\n",
       "      <td>0.28</td>\n",
       "      <td>1.32</td>\n",
       "      <td>0.00</td>\n",
       "      <td>0.28</td>\n",
       "      <td>0.29</td>\n",
       "      <td>1.32</td>\n",
       "      <td>1.33</td>\n",
       "      <td>101.65</td>\n",
       "      <td>&lt;0.005</td>\n",
       "      <td>inf</td>\n",
       "    </tr>\n",
       "  </tbody>\n",
       "</table><br><div>\n",
       "<style scoped>\n",
       "    .dataframe tbody tr th:only-of-type {\n",
       "        vertical-align: middle;\n",
       "    }\n",
       "\n",
       "    .dataframe tbody tr th {\n",
       "        vertical-align: top;\n",
       "    }\n",
       "\n",
       "    .dataframe thead th {\n",
       "        text-align: right;\n",
       "    }\n",
       "</style>\n",
       "<table border=\"1\" class=\"dataframe\">\n",
       "  <tbody>\n",
       "    <tr>\n",
       "      <th>Concordance</th>\n",
       "      <td>0.68</td>\n",
       "    </tr>\n",
       "    <tr>\n",
       "      <th>AIC</th>\n",
       "      <td>276007.20</td>\n",
       "    </tr>\n",
       "    <tr>\n",
       "      <th>log-likelihood ratio test</th>\n",
       "      <td>21312.66 on 11 df</td>\n",
       "    </tr>\n",
       "    <tr>\n",
       "      <th>-log2(p) of ll-ratio test</th>\n",
       "      <td>inf</td>\n",
       "    </tr>\n",
       "  </tbody>\n",
       "</table>\n",
       "</div>"
      ],
      "text/latex": [
       "\\begin{tabular}{llrrrrrrrrrr}\n",
       "\\toprule\n",
       "     &           &  coef &  exp(coef) &  se(coef) &  coef lower 95\\% &  coef upper 95\\% &  exp(coef) lower 95\\% &  exp(coef) upper 95\\% &      z &    p &  -log2(p) \\\\\n",
       "param & covariate &       &            &           &                 &                 &                      &                      &        &      &           \\\\\n",
       "\\midrule\n",
       "lambda\\_ & country\\_France & -0.24 &       0.79 &      0.01 &           -0.26 &           -0.22 &                 0.77 &                 0.80 & -20.06 & 0.00 &    294.93 \\\\\n",
       "     & country\\_Germany & -0.00 &       1.00 &      0.01 &           -0.02 &            0.02 &                 0.98 &                 1.02 &  -0.00 & 1.00 &      0.00 \\\\\n",
       "     & country\\_Italy & -0.24 &       0.79 &      0.01 &           -0.26 &           -0.21 &                 0.77 &                 0.81 & -19.34 & 0.00 &    274.29 \\\\\n",
       "     & country\\_Netherlands &  0.07 &       1.07 &      0.01 &            0.04 &            0.09 &                 1.05 &                 1.10 &   5.74 & 0.00 &     26.70 \\\\\n",
       "     & country\\_Spain & -0.25 &       0.78 &      0.01 &           -0.27 &           -0.23 &                 0.76 &                 0.80 & -20.22 & 0.00 &    299.67 \\\\\n",
       "     & country\\_UK &  0.00 &       1.00 &      0.01 &           -0.02 &            0.02 &                 0.98 &                 1.02 &   0.00 & 1.00 &      0.00 \\\\\n",
       "     & country\\_US &  0.00 &       1.00 &      0.01 &           -0.02 &            0.02 &                 0.98 &                 1.02 &   0.00 & 1.00 &      0.00 \\\\\n",
       "     & source\\_partnerships &  0.47 &       1.60 &      0.01 &            0.45 &            0.48 &                 1.57 &                 1.62 &  56.39 & 0.00 &       inf \\\\\n",
       "     & source\\_referral &  1.00 &       2.72 &      0.01 &            0.98 &            1.03 &                 2.65 &                 2.79 &  75.66 & 0.00 &       inf \\\\\n",
       "     & tier\\_Platinum & -0.33 &       0.72 &      0.01 &           -0.35 &           -0.31 &                 0.71 &                 0.73 & -35.73 & 0.00 &    926.49 \\\\\n",
       "     & tier\\_Silver &  0.68 &       1.97 &      0.01 &            0.67 &            0.69 &                 1.95 &                 2.00 & 103.62 & 0.00 &       inf \\\\\n",
       "     & Intercept &  0.78 &       2.18 &      0.01 &            0.76 &            0.80 &                 2.14 &                 2.22 &  84.58 & 0.00 &       inf \\\\\n",
       "rho\\_ & Intercept &  0.28 &       1.32 &      0.00 &            0.28 &            0.29 &                 1.32 &                 1.33 & 101.65 & 0.00 &       inf \\\\\n",
       "\\bottomrule\n",
       "\\end{tabular}\n"
      ],
      "text/plain": [
       "<lifelines.WeibullAFTFitter: fitted with 79955 total observations, 5972 right-censored observations>\n",
       "             duration col = 'tenure'\n",
       "                event col = 'churn'\n",
       "                penalizer = 0.1\n",
       "   number of observations = 79955\n",
       "number of events observed = 73983\n",
       "           log-likelihood = -137990.60\n",
       "         time fit was run = 2020-09-04 02:25:04 UTC\n",
       "\n",
       "---\n",
       "                              coef  exp(coef)   se(coef)   coef lower 95%   coef upper 95%  exp(coef) lower 95%  exp(coef) upper 95%\n",
       "param   covariate                                                                                                                   \n",
       "lambda_ country_France       -0.24       0.79       0.01            -0.26            -0.22                 0.77                 0.80\n",
       "        country_Germany      -0.00       1.00       0.01            -0.02             0.02                 0.98                 1.02\n",
       "        country_Italy        -0.24       0.79       0.01            -0.26            -0.21                 0.77                 0.81\n",
       "        country_Netherlands   0.07       1.07       0.01             0.04             0.09                 1.05                 1.10\n",
       "        country_Spain        -0.25       0.78       0.01            -0.27            -0.23                 0.76                 0.80\n",
       "        country_UK            0.00       1.00       0.01            -0.02             0.02                 0.98                 1.02\n",
       "        country_US            0.00       1.00       0.01            -0.02             0.02                 0.98                 1.02\n",
       "        source_partnerships   0.47       1.60       0.01             0.45             0.48                 1.57                 1.62\n",
       "        source_referral       1.00       2.72       0.01             0.98             1.03                 2.65                 2.79\n",
       "        tier_Platinum        -0.33       0.72       0.01            -0.35            -0.31                 0.71                 0.73\n",
       "        tier_Silver           0.68       1.97       0.01             0.67             0.69                 1.95                 2.00\n",
       "        Intercept             0.78       2.18       0.01             0.76             0.80                 2.14                 2.22\n",
       "rho_    Intercept             0.28       1.32       0.00             0.28             0.29                 1.32                 1.33\n",
       "                                 z      p   -log2(p)\n",
       "param   covariate                                   \n",
       "lambda_ country_France      -20.06 <0.005     294.93\n",
       "        country_Germany      -0.00   1.00       0.00\n",
       "        country_Italy       -19.34 <0.005     274.29\n",
       "        country_Netherlands   5.74 <0.005      26.70\n",
       "        country_Spain       -20.22 <0.005     299.67\n",
       "        country_UK            0.00   1.00       0.00\n",
       "        country_US            0.00   1.00       0.00\n",
       "        source_partnerships  56.39 <0.005        inf\n",
       "        source_referral      75.66 <0.005        inf\n",
       "        tier_Platinum       -35.73 <0.005     926.49\n",
       "        tier_Silver         103.62 <0.005        inf\n",
       "        Intercept            84.58 <0.005        inf\n",
       "rho_    Intercept           101.65 <0.005        inf\n",
       "---\n",
       "Concordance = 0.68\n",
       "AIC = 276007.20\n",
       "log-likelihood ratio test = 21312.66 on 11 df\n",
       "-log2(p) of ll-ratio test = inf"
      ]
     },
     "metadata": {},
     "output_type": "display_data"
    }
   ],
   "source": [
    "aft_model.print_summary()"
   ]
  },
  {
   "cell_type": "markdown",
   "metadata": {},
   "source": [
    "### Modified Cox Proportional Hazards Modeling"
   ]
  },
  {
   "cell_type": "code",
   "execution_count": 26,
   "metadata": {},
   "outputs": [
    {
     "name": "stderr",
     "output_type": "stream",
     "text": [
      "/Users/RobertSmith/data-science-projects/CustomerChurn/venv/lib/python3.8/site-packages/lifelines/fitters/__init__.py:1990: ApproximationWarning: The Hessian was not invertible. We will instead approximate it using the pseudo-inverse.\n",
      "\n",
      "It's advisable to not trust the variances reported, and to be suspicious of the fitted parameters too.\n",
      "\n",
      "Some ways to possible ways fix this:\n",
      "\n",
      "0. Are there any lifelines warnings outputted during the `fit`?\n",
      "1. Inspect your DataFrame: does everything look as expected? Do you need to add/drop a constant (intercept) column?\n",
      "2. Is there high-collinearity in the dataset? Try using the variance inflation factor (VIF) to find redundant variables.\n",
      "3. Trying adding a small penalizer (or changing it, if already present). Example: `ParametricSplinePHFitter(penalizer=0.01).fit(...)`.\n",
      "4. Are there any extreme outliers? Try modeling them or dropping them to see if it helps convergence.\n",
      "\n",
      "  warnings.warn(warning_text, exceptions.ApproximationWarning)\n",
      "/Users/RobertSmith/data-science-projects/CustomerChurn/venv/lib/python3.8/site-packages/lifelines/fitters/__init__.py:2395: ApproximationWarning: Approximating the expected value using trapezoid rule.\n",
      "\n",
      "  warnings.warn(\"\"\"Approximating the expected value using trapezoid rule.\\n\"\"\", exceptions.ApproximationWarning)\n",
      "/Users/RobertSmith/data-science-projects/CustomerChurn/venv/lib/python3.8/site-packages/lifelines/fitters/__init__.py:1990: ApproximationWarning: The Hessian was not invertible. We will instead approximate it using the pseudo-inverse.\n",
      "\n",
      "It's advisable to not trust the variances reported, and to be suspicious of the fitted parameters too.\n",
      "\n",
      "Some ways to possible ways fix this:\n",
      "\n",
      "0. Are there any lifelines warnings outputted during the `fit`?\n",
      "1. Inspect your DataFrame: does everything look as expected? Do you need to add/drop a constant (intercept) column?\n",
      "2. Is there high-collinearity in the dataset? Try using the variance inflation factor (VIF) to find redundant variables.\n",
      "3. Trying adding a small penalizer (or changing it, if already present). Example: `ParametricSplinePHFitter(penalizer=0.01).fit(...)`.\n",
      "4. Are there any extreme outliers? Try modeling them or dropping them to see if it helps convergence.\n",
      "\n",
      "  warnings.warn(warning_text, exceptions.ApproximationWarning)\n",
      "/Users/RobertSmith/data-science-projects/CustomerChurn/venv/lib/python3.8/site-packages/lifelines/fitters/__init__.py:2395: ApproximationWarning: Approximating the expected value using trapezoid rule.\n",
      "\n",
      "  warnings.warn(\"\"\"Approximating the expected value using trapezoid rule.\\n\"\"\", exceptions.ApproximationWarning)\n",
      "/Users/RobertSmith/data-science-projects/CustomerChurn/venv/lib/python3.8/site-packages/lifelines/fitters/__init__.py:1990: ApproximationWarning: The Hessian was not invertible. We will instead approximate it using the pseudo-inverse.\n",
      "\n",
      "It's advisable to not trust the variances reported, and to be suspicious of the fitted parameters too.\n",
      "\n",
      "Some ways to possible ways fix this:\n",
      "\n",
      "0. Are there any lifelines warnings outputted during the `fit`?\n",
      "1. Inspect your DataFrame: does everything look as expected? Do you need to add/drop a constant (intercept) column?\n",
      "2. Is there high-collinearity in the dataset? Try using the variance inflation factor (VIF) to find redundant variables.\n",
      "3. Trying adding a small penalizer (or changing it, if already present). Example: `ParametricSplinePHFitter(penalizer=0.01).fit(...)`.\n",
      "4. Are there any extreme outliers? Try modeling them or dropping them to see if it helps convergence.\n",
      "\n",
      "  warnings.warn(warning_text, exceptions.ApproximationWarning)\n",
      "/Users/RobertSmith/data-science-projects/CustomerChurn/venv/lib/python3.8/site-packages/lifelines/fitters/__init__.py:2395: ApproximationWarning: Approximating the expected value using trapezoid rule.\n",
      "\n",
      "  warnings.warn(\"\"\"Approximating the expected value using trapezoid rule.\\n\"\"\", exceptions.ApproximationWarning)\n",
      "/Users/RobertSmith/data-science-projects/CustomerChurn/venv/lib/python3.8/site-packages/lifelines/fitters/__init__.py:1990: ApproximationWarning: The Hessian was not invertible. We will instead approximate it using the pseudo-inverse.\n",
      "\n",
      "It's advisable to not trust the variances reported, and to be suspicious of the fitted parameters too.\n",
      "\n",
      "Some ways to possible ways fix this:\n",
      "\n",
      "0. Are there any lifelines warnings outputted during the `fit`?\n",
      "1. Inspect your DataFrame: does everything look as expected? Do you need to add/drop a constant (intercept) column?\n",
      "2. Is there high-collinearity in the dataset? Try using the variance inflation factor (VIF) to find redundant variables.\n",
      "3. Trying adding a small penalizer (or changing it, if already present). Example: `ParametricSplinePHFitter(penalizer=0.01).fit(...)`.\n",
      "4. Are there any extreme outliers? Try modeling them or dropping them to see if it helps convergence.\n",
      "\n",
      "  warnings.warn(warning_text, exceptions.ApproximationWarning)\n",
      "/Users/RobertSmith/data-science-projects/CustomerChurn/venv/lib/python3.8/site-packages/lifelines/fitters/__init__.py:2395: ApproximationWarning: Approximating the expected value using trapezoid rule.\n",
      "\n",
      "  warnings.warn(\"\"\"Approximating the expected value using trapezoid rule.\\n\"\"\", exceptions.ApproximationWarning)\n",
      "/Users/RobertSmith/data-science-projects/CustomerChurn/venv/lib/python3.8/site-packages/lifelines/fitters/__init__.py:1990: ApproximationWarning: The Hessian was not invertible. We will instead approximate it using the pseudo-inverse.\n",
      "\n",
      "It's advisable to not trust the variances reported, and to be suspicious of the fitted parameters too.\n",
      "\n",
      "Some ways to possible ways fix this:\n",
      "\n",
      "0. Are there any lifelines warnings outputted during the `fit`?\n",
      "1. Inspect your DataFrame: does everything look as expected? Do you need to add/drop a constant (intercept) column?\n",
      "2. Is there high-collinearity in the dataset? Try using the variance inflation factor (VIF) to find redundant variables.\n",
      "3. Trying adding a small penalizer (or changing it, if already present). Example: `ParametricSplinePHFitter(penalizer=0.01).fit(...)`.\n",
      "4. Are there any extreme outliers? Try modeling them or dropping them to see if it helps convergence.\n",
      "\n",
      "  warnings.warn(warning_text, exceptions.ApproximationWarning)\n",
      "/Users/RobertSmith/data-science-projects/CustomerChurn/venv/lib/python3.8/site-packages/lifelines/fitters/__init__.py:2395: ApproximationWarning: Approximating the expected value using trapezoid rule.\n",
      "\n",
      "  warnings.warn(\"\"\"Approximating the expected value using trapezoid rule.\\n\"\"\", exceptions.ApproximationWarning)\n",
      "/Users/RobertSmith/data-science-projects/CustomerChurn/venv/lib/python3.8/site-packages/lifelines/fitters/__init__.py:1990: ApproximationWarning: The Hessian was not invertible. We will instead approximate it using the pseudo-inverse.\n",
      "\n",
      "It's advisable to not trust the variances reported, and to be suspicious of the fitted parameters too.\n",
      "\n",
      "Some ways to possible ways fix this:\n",
      "\n",
      "0. Are there any lifelines warnings outputted during the `fit`?\n",
      "1. Inspect your DataFrame: does everything look as expected? Do you need to add/drop a constant (intercept) column?\n",
      "2. Is there high-collinearity in the dataset? Try using the variance inflation factor (VIF) to find redundant variables.\n",
      "3. Trying adding a small penalizer (or changing it, if already present). Example: `ParametricSplinePHFitter(penalizer=0.01).fit(...)`.\n",
      "4. Are there any extreme outliers? Try modeling them or dropping them to see if it helps convergence.\n",
      "\n",
      "  warnings.warn(warning_text, exceptions.ApproximationWarning)\n",
      "/Users/RobertSmith/data-science-projects/CustomerChurn/venv/lib/python3.8/site-packages/lifelines/fitters/__init__.py:2395: ApproximationWarning: Approximating the expected value using trapezoid rule.\n",
      "\n",
      "  warnings.warn(\"\"\"Approximating the expected value using trapezoid rule.\\n\"\"\", exceptions.ApproximationWarning)\n",
      "/Users/RobertSmith/data-science-projects/CustomerChurn/venv/lib/python3.8/site-packages/lifelines/fitters/__init__.py:1990: ApproximationWarning: The Hessian was not invertible. We will instead approximate it using the pseudo-inverse.\n",
      "\n",
      "It's advisable to not trust the variances reported, and to be suspicious of the fitted parameters too.\n",
      "\n",
      "Some ways to possible ways fix this:\n",
      "\n",
      "0. Are there any lifelines warnings outputted during the `fit`?\n",
      "1. Inspect your DataFrame: does everything look as expected? Do you need to add/drop a constant (intercept) column?\n",
      "2. Is there high-collinearity in the dataset? Try using the variance inflation factor (VIF) to find redundant variables.\n",
      "3. Trying adding a small penalizer (or changing it, if already present). Example: `ParametricSplinePHFitter(penalizer=0.01).fit(...)`.\n",
      "4. Are there any extreme outliers? Try modeling them or dropping them to see if it helps convergence.\n",
      "\n",
      "  warnings.warn(warning_text, exceptions.ApproximationWarning)\n",
      "/Users/RobertSmith/data-science-projects/CustomerChurn/venv/lib/python3.8/site-packages/lifelines/fitters/__init__.py:2395: ApproximationWarning: Approximating the expected value using trapezoid rule.\n",
      "\n",
      "  warnings.warn(\"\"\"Approximating the expected value using trapezoid rule.\\n\"\"\", exceptions.ApproximationWarning)\n"
     ]
    },
    {
     "name": "stderr",
     "output_type": "stream",
     "text": [
      "/Users/RobertSmith/data-science-projects/CustomerChurn/venv/lib/python3.8/site-packages/lifelines/fitters/__init__.py:1990: ApproximationWarning: The Hessian was not invertible. We will instead approximate it using the pseudo-inverse.\n",
      "\n",
      "It's advisable to not trust the variances reported, and to be suspicious of the fitted parameters too.\n",
      "\n",
      "Some ways to possible ways fix this:\n",
      "\n",
      "0. Are there any lifelines warnings outputted during the `fit`?\n",
      "1. Inspect your DataFrame: does everything look as expected? Do you need to add/drop a constant (intercept) column?\n",
      "2. Is there high-collinearity in the dataset? Try using the variance inflation factor (VIF) to find redundant variables.\n",
      "3. Trying adding a small penalizer (or changing it, if already present). Example: `ParametricSplinePHFitter(penalizer=0.01).fit(...)`.\n",
      "4. Are there any extreme outliers? Try modeling them or dropping them to see if it helps convergence.\n",
      "\n",
      "  warnings.warn(warning_text, exceptions.ApproximationWarning)\n",
      "/Users/RobertSmith/data-science-projects/CustomerChurn/venv/lib/python3.8/site-packages/lifelines/fitters/__init__.py:2395: ApproximationWarning: Approximating the expected value using trapezoid rule.\n",
      "\n",
      "  warnings.warn(\"\"\"Approximating the expected value using trapezoid rule.\\n\"\"\", exceptions.ApproximationWarning)\n",
      "/Users/RobertSmith/data-science-projects/CustomerChurn/venv/lib/python3.8/site-packages/lifelines/fitters/__init__.py:1990: ApproximationWarning: The Hessian was not invertible. We will instead approximate it using the pseudo-inverse.\n",
      "\n",
      "It's advisable to not trust the variances reported, and to be suspicious of the fitted parameters too.\n",
      "\n",
      "Some ways to possible ways fix this:\n",
      "\n",
      "0. Are there any lifelines warnings outputted during the `fit`?\n",
      "1. Inspect your DataFrame: does everything look as expected? Do you need to add/drop a constant (intercept) column?\n",
      "2. Is there high-collinearity in the dataset? Try using the variance inflation factor (VIF) to find redundant variables.\n",
      "3. Trying adding a small penalizer (or changing it, if already present). Example: `ParametricSplinePHFitter(penalizer=0.01).fit(...)`.\n",
      "4. Are there any extreme outliers? Try modeling them or dropping them to see if it helps convergence.\n",
      "\n",
      "  warnings.warn(warning_text, exceptions.ApproximationWarning)\n",
      "/Users/RobertSmith/data-science-projects/CustomerChurn/venv/lib/python3.8/site-packages/lifelines/fitters/__init__.py:2395: ApproximationWarning: Approximating the expected value using trapezoid rule.\n",
      "\n",
      "  warnings.warn(\"\"\"Approximating the expected value using trapezoid rule.\\n\"\"\", exceptions.ApproximationWarning)\n",
      "/Users/RobertSmith/data-science-projects/CustomerChurn/venv/lib/python3.8/site-packages/lifelines/fitters/__init__.py:1990: ApproximationWarning: The Hessian was not invertible. We will instead approximate it using the pseudo-inverse.\n",
      "\n",
      "It's advisable to not trust the variances reported, and to be suspicious of the fitted parameters too.\n",
      "\n",
      "Some ways to possible ways fix this:\n",
      "\n",
      "0. Are there any lifelines warnings outputted during the `fit`?\n",
      "1. Inspect your DataFrame: does everything look as expected? Do you need to add/drop a constant (intercept) column?\n",
      "2. Is there high-collinearity in the dataset? Try using the variance inflation factor (VIF) to find redundant variables.\n",
      "3. Trying adding a small penalizer (or changing it, if already present). Example: `ParametricSplinePHFitter(penalizer=0.01).fit(...)`.\n",
      "4. Are there any extreme outliers? Try modeling them or dropping them to see if it helps convergence.\n",
      "\n",
      "  warnings.warn(warning_text, exceptions.ApproximationWarning)\n",
      "/Users/RobertSmith/data-science-projects/CustomerChurn/venv/lib/python3.8/site-packages/lifelines/fitters/__init__.py:2395: ApproximationWarning: Approximating the expected value using trapezoid rule.\n",
      "\n",
      "  warnings.warn(\"\"\"Approximating the expected value using trapezoid rule.\\n\"\"\", exceptions.ApproximationWarning)\n",
      "/Users/RobertSmith/data-science-projects/CustomerChurn/venv/lib/python3.8/site-packages/lifelines/fitters/__init__.py:1990: ApproximationWarning: The Hessian was not invertible. We will instead approximate it using the pseudo-inverse.\n",
      "\n",
      "It's advisable to not trust the variances reported, and to be suspicious of the fitted parameters too.\n",
      "\n",
      "Some ways to possible ways fix this:\n",
      "\n",
      "0. Are there any lifelines warnings outputted during the `fit`?\n",
      "1. Inspect your DataFrame: does everything look as expected? Do you need to add/drop a constant (intercept) column?\n",
      "2. Is there high-collinearity in the dataset? Try using the variance inflation factor (VIF) to find redundant variables.\n",
      "3. Trying adding a small penalizer (or changing it, if already present). Example: `ParametricSplinePHFitter(penalizer=0.01).fit(...)`.\n",
      "4. Are there any extreme outliers? Try modeling them or dropping them to see if it helps convergence.\n",
      "\n",
      "  warnings.warn(warning_text, exceptions.ApproximationWarning)\n",
      "/Users/RobertSmith/data-science-projects/CustomerChurn/venv/lib/python3.8/site-packages/lifelines/fitters/__init__.py:2395: ApproximationWarning: Approximating the expected value using trapezoid rule.\n",
      "\n",
      "  warnings.warn(\"\"\"Approximating the expected value using trapezoid rule.\\n\"\"\", exceptions.ApproximationWarning)\n",
      "/Users/RobertSmith/data-science-projects/CustomerChurn/venv/lib/python3.8/site-packages/lifelines/fitters/__init__.py:1990: ApproximationWarning: The Hessian was not invertible. We will instead approximate it using the pseudo-inverse.\n",
      "\n",
      "It's advisable to not trust the variances reported, and to be suspicious of the fitted parameters too.\n",
      "\n",
      "Some ways to possible ways fix this:\n",
      "\n",
      "0. Are there any lifelines warnings outputted during the `fit`?\n",
      "1. Inspect your DataFrame: does everything look as expected? Do you need to add/drop a constant (intercept) column?\n",
      "2. Is there high-collinearity in the dataset? Try using the variance inflation factor (VIF) to find redundant variables.\n",
      "3. Trying adding a small penalizer (or changing it, if already present). Example: `ParametricSplinePHFitter(penalizer=0.01).fit(...)`.\n",
      "4. Are there any extreme outliers? Try modeling them or dropping them to see if it helps convergence.\n",
      "\n",
      "  warnings.warn(warning_text, exceptions.ApproximationWarning)\n",
      "/Users/RobertSmith/data-science-projects/CustomerChurn/venv/lib/python3.8/site-packages/lifelines/fitters/__init__.py:2395: ApproximationWarning: Approximating the expected value using trapezoid rule.\n",
      "\n",
      "  warnings.warn(\"\"\"Approximating the expected value using trapezoid rule.\\n\"\"\", exceptions.ApproximationWarning)\n",
      "/Users/RobertSmith/data-science-projects/CustomerChurn/venv/lib/python3.8/site-packages/lifelines/fitters/__init__.py:1990: ApproximationWarning: The Hessian was not invertible. We will instead approximate it using the pseudo-inverse.\n",
      "\n",
      "It's advisable to not trust the variances reported, and to be suspicious of the fitted parameters too.\n",
      "\n",
      "Some ways to possible ways fix this:\n",
      "\n",
      "0. Are there any lifelines warnings outputted during the `fit`?\n",
      "1. Inspect your DataFrame: does everything look as expected? Do you need to add/drop a constant (intercept) column?\n",
      "2. Is there high-collinearity in the dataset? Try using the variance inflation factor (VIF) to find redundant variables.\n",
      "3. Trying adding a small penalizer (or changing it, if already present). Example: `ParametricSplinePHFitter(penalizer=0.01).fit(...)`.\n",
      "4. Are there any extreme outliers? Try modeling them or dropping them to see if it helps convergence.\n",
      "\n",
      "  warnings.warn(warning_text, exceptions.ApproximationWarning)\n",
      "/Users/RobertSmith/data-science-projects/CustomerChurn/venv/lib/python3.8/site-packages/lifelines/fitters/__init__.py:2395: ApproximationWarning: Approximating the expected value using trapezoid rule.\n",
      "\n",
      "  warnings.warn(\"\"\"Approximating the expected value using trapezoid rule.\\n\"\"\", exceptions.ApproximationWarning)\n",
      "/Users/RobertSmith/data-science-projects/CustomerChurn/venv/lib/python3.8/site-packages/lifelines/fitters/__init__.py:1990: ApproximationWarning: The Hessian was not invertible. We will instead approximate it using the pseudo-inverse.\n",
      "\n",
      "It's advisable to not trust the variances reported, and to be suspicious of the fitted parameters too.\n",
      "\n",
      "Some ways to possible ways fix this:\n",
      "\n",
      "0. Are there any lifelines warnings outputted during the `fit`?\n",
      "1. Inspect your DataFrame: does everything look as expected? Do you need to add/drop a constant (intercept) column?\n",
      "2. Is there high-collinearity in the dataset? Try using the variance inflation factor (VIF) to find redundant variables.\n",
      "3. Trying adding a small penalizer (or changing it, if already present). Example: `ParametricSplinePHFitter(penalizer=0.01).fit(...)`.\n",
      "4. Are there any extreme outliers? Try modeling them or dropping them to see if it helps convergence.\n",
      "\n",
      "  warnings.warn(warning_text, exceptions.ApproximationWarning)\n",
      "/Users/RobertSmith/data-science-projects/CustomerChurn/venv/lib/python3.8/site-packages/lifelines/fitters/__init__.py:2395: ApproximationWarning: Approximating the expected value using trapezoid rule.\n",
      "\n",
      "  warnings.warn(\"\"\"Approximating the expected value using trapezoid rule.\\n\"\"\", exceptions.ApproximationWarning)\n"
     ]
    },
    {
     "name": "stderr",
     "output_type": "stream",
     "text": [
      "/Users/RobertSmith/data-science-projects/CustomerChurn/venv/lib/python3.8/site-packages/lifelines/fitters/__init__.py:1990: ApproximationWarning: The Hessian was not invertible. We will instead approximate it using the pseudo-inverse.\n",
      "\n",
      "It's advisable to not trust the variances reported, and to be suspicious of the fitted parameters too.\n",
      "\n",
      "Some ways to possible ways fix this:\n",
      "\n",
      "0. Are there any lifelines warnings outputted during the `fit`?\n",
      "1. Inspect your DataFrame: does everything look as expected? Do you need to add/drop a constant (intercept) column?\n",
      "2. Is there high-collinearity in the dataset? Try using the variance inflation factor (VIF) to find redundant variables.\n",
      "3. Trying adding a small penalizer (or changing it, if already present). Example: `ParametricSplinePHFitter(penalizer=0.01).fit(...)`.\n",
      "4. Are there any extreme outliers? Try modeling them or dropping them to see if it helps convergence.\n",
      "\n",
      "  warnings.warn(warning_text, exceptions.ApproximationWarning)\n",
      "/Users/RobertSmith/data-science-projects/CustomerChurn/venv/lib/python3.8/site-packages/lifelines/fitters/__init__.py:2395: ApproximationWarning: Approximating the expected value using trapezoid rule.\n",
      "\n",
      "  warnings.warn(\"\"\"Approximating the expected value using trapezoid rule.\\n\"\"\", exceptions.ApproximationWarning)\n",
      "/Users/RobertSmith/data-science-projects/CustomerChurn/venv/lib/python3.8/site-packages/lifelines/fitters/__init__.py:1990: ApproximationWarning: The Hessian was not invertible. We will instead approximate it using the pseudo-inverse.\n",
      "\n",
      "It's advisable to not trust the variances reported, and to be suspicious of the fitted parameters too.\n",
      "\n",
      "Some ways to possible ways fix this:\n",
      "\n",
      "0. Are there any lifelines warnings outputted during the `fit`?\n",
      "1. Inspect your DataFrame: does everything look as expected? Do you need to add/drop a constant (intercept) column?\n",
      "2. Is there high-collinearity in the dataset? Try using the variance inflation factor (VIF) to find redundant variables.\n",
      "3. Trying adding a small penalizer (or changing it, if already present). Example: `ParametricSplinePHFitter(penalizer=0.01).fit(...)`.\n",
      "4. Are there any extreme outliers? Try modeling them or dropping them to see if it helps convergence.\n",
      "\n",
      "  warnings.warn(warning_text, exceptions.ApproximationWarning)\n",
      "/Users/RobertSmith/data-science-projects/CustomerChurn/venv/lib/python3.8/site-packages/lifelines/fitters/__init__.py:2395: ApproximationWarning: Approximating the expected value using trapezoid rule.\n",
      "\n",
      "  warnings.warn(\"\"\"Approximating the expected value using trapezoid rule.\\n\"\"\", exceptions.ApproximationWarning)\n",
      "/Users/RobertSmith/data-science-projects/CustomerChurn/venv/lib/python3.8/site-packages/lifelines/fitters/__init__.py:1990: ApproximationWarning: The Hessian was not invertible. We will instead approximate it using the pseudo-inverse.\n",
      "\n",
      "It's advisable to not trust the variances reported, and to be suspicious of the fitted parameters too.\n",
      "\n",
      "Some ways to possible ways fix this:\n",
      "\n",
      "0. Are there any lifelines warnings outputted during the `fit`?\n",
      "1. Inspect your DataFrame: does everything look as expected? Do you need to add/drop a constant (intercept) column?\n",
      "2. Is there high-collinearity in the dataset? Try using the variance inflation factor (VIF) to find redundant variables.\n",
      "3. Trying adding a small penalizer (or changing it, if already present). Example: `ParametricSplinePHFitter(penalizer=0.01).fit(...)`.\n",
      "4. Are there any extreme outliers? Try modeling them or dropping them to see if it helps convergence.\n",
      "\n",
      "  warnings.warn(warning_text, exceptions.ApproximationWarning)\n",
      "/Users/RobertSmith/data-science-projects/CustomerChurn/venv/lib/python3.8/site-packages/lifelines/fitters/__init__.py:2395: ApproximationWarning: Approximating the expected value using trapezoid rule.\n",
      "\n",
      "  warnings.warn(\"\"\"Approximating the expected value using trapezoid rule.\\n\"\"\", exceptions.ApproximationWarning)\n",
      "/Users/RobertSmith/data-science-projects/CustomerChurn/venv/lib/python3.8/site-packages/lifelines/fitters/__init__.py:1990: ApproximationWarning: The Hessian was not invertible. We will instead approximate it using the pseudo-inverse.\n",
      "\n",
      "It's advisable to not trust the variances reported, and to be suspicious of the fitted parameters too.\n",
      "\n",
      "Some ways to possible ways fix this:\n",
      "\n",
      "0. Are there any lifelines warnings outputted during the `fit`?\n",
      "1. Inspect your DataFrame: does everything look as expected? Do you need to add/drop a constant (intercept) column?\n",
      "2. Is there high-collinearity in the dataset? Try using the variance inflation factor (VIF) to find redundant variables.\n",
      "3. Trying adding a small penalizer (or changing it, if already present). Example: `ParametricSplinePHFitter(penalizer=0.01).fit(...)`.\n",
      "4. Are there any extreme outliers? Try modeling them or dropping them to see if it helps convergence.\n",
      "\n",
      "  warnings.warn(warning_text, exceptions.ApproximationWarning)\n",
      "/Users/RobertSmith/data-science-projects/CustomerChurn/venv/lib/python3.8/site-packages/lifelines/fitters/__init__.py:2395: ApproximationWarning: Approximating the expected value using trapezoid rule.\n",
      "\n",
      "  warnings.warn(\"\"\"Approximating the expected value using trapezoid rule.\\n\"\"\", exceptions.ApproximationWarning)\n",
      "/Users/RobertSmith/data-science-projects/CustomerChurn/venv/lib/python3.8/site-packages/lifelines/fitters/__init__.py:1990: ApproximationWarning: The Hessian was not invertible. We will instead approximate it using the pseudo-inverse.\n",
      "\n",
      "It's advisable to not trust the variances reported, and to be suspicious of the fitted parameters too.\n",
      "\n",
      "Some ways to possible ways fix this:\n",
      "\n",
      "0. Are there any lifelines warnings outputted during the `fit`?\n",
      "1. Inspect your DataFrame: does everything look as expected? Do you need to add/drop a constant (intercept) column?\n",
      "2. Is there high-collinearity in the dataset? Try using the variance inflation factor (VIF) to find redundant variables.\n",
      "3. Trying adding a small penalizer (or changing it, if already present). Example: `ParametricSplinePHFitter(penalizer=0.01).fit(...)`.\n",
      "4. Are there any extreme outliers? Try modeling them or dropping them to see if it helps convergence.\n",
      "\n",
      "  warnings.warn(warning_text, exceptions.ApproximationWarning)\n",
      "/Users/RobertSmith/data-science-projects/CustomerChurn/venv/lib/python3.8/site-packages/lifelines/fitters/__init__.py:2395: ApproximationWarning: Approximating the expected value using trapezoid rule.\n",
      "\n",
      "  warnings.warn(\"\"\"Approximating the expected value using trapezoid rule.\\n\"\"\", exceptions.ApproximationWarning)\n",
      "/Users/RobertSmith/data-science-projects/CustomerChurn/venv/lib/python3.8/site-packages/lifelines/fitters/__init__.py:1990: ApproximationWarning: The Hessian was not invertible. We will instead approximate it using the pseudo-inverse.\n",
      "\n",
      "It's advisable to not trust the variances reported, and to be suspicious of the fitted parameters too.\n",
      "\n",
      "Some ways to possible ways fix this:\n",
      "\n",
      "0. Are there any lifelines warnings outputted during the `fit`?\n",
      "1. Inspect your DataFrame: does everything look as expected? Do you need to add/drop a constant (intercept) column?\n",
      "2. Is there high-collinearity in the dataset? Try using the variance inflation factor (VIF) to find redundant variables.\n",
      "3. Trying adding a small penalizer (or changing it, if already present). Example: `ParametricSplinePHFitter(penalizer=0.01).fit(...)`.\n",
      "4. Are there any extreme outliers? Try modeling them or dropping them to see if it helps convergence.\n",
      "\n",
      "  warnings.warn(warning_text, exceptions.ApproximationWarning)\n",
      "/Users/RobertSmith/data-science-projects/CustomerChurn/venv/lib/python3.8/site-packages/lifelines/fitters/__init__.py:2395: ApproximationWarning: Approximating the expected value using trapezoid rule.\n",
      "\n",
      "  warnings.warn(\"\"\"Approximating the expected value using trapezoid rule.\\n\"\"\", exceptions.ApproximationWarning)\n",
      "/Users/RobertSmith/data-science-projects/CustomerChurn/venv/lib/python3.8/site-packages/lifelines/fitters/__init__.py:1990: ApproximationWarning: The Hessian was not invertible. We will instead approximate it using the pseudo-inverse.\n",
      "\n",
      "It's advisable to not trust the variances reported, and to be suspicious of the fitted parameters too.\n",
      "\n",
      "Some ways to possible ways fix this:\n",
      "\n",
      "0. Are there any lifelines warnings outputted during the `fit`?\n",
      "1. Inspect your DataFrame: does everything look as expected? Do you need to add/drop a constant (intercept) column?\n",
      "2. Is there high-collinearity in the dataset? Try using the variance inflation factor (VIF) to find redundant variables.\n",
      "3. Trying adding a small penalizer (or changing it, if already present). Example: `ParametricSplinePHFitter(penalizer=0.01).fit(...)`.\n",
      "4. Are there any extreme outliers? Try modeling them or dropping them to see if it helps convergence.\n",
      "\n",
      "  warnings.warn(warning_text, exceptions.ApproximationWarning)\n",
      "/Users/RobertSmith/data-science-projects/CustomerChurn/venv/lib/python3.8/site-packages/lifelines/fitters/__init__.py:2395: ApproximationWarning: Approximating the expected value using trapezoid rule.\n",
      "\n",
      "  warnings.warn(\"\"\"Approximating the expected value using trapezoid rule.\\n\"\"\", exceptions.ApproximationWarning)\n"
     ]
    },
    {
     "name": "stderr",
     "output_type": "stream",
     "text": [
      "/Users/RobertSmith/data-science-projects/CustomerChurn/venv/lib/python3.8/site-packages/lifelines/fitters/__init__.py:1990: ApproximationWarning: The Hessian was not invertible. We will instead approximate it using the pseudo-inverse.\n",
      "\n",
      "It's advisable to not trust the variances reported, and to be suspicious of the fitted parameters too.\n",
      "\n",
      "Some ways to possible ways fix this:\n",
      "\n",
      "0. Are there any lifelines warnings outputted during the `fit`?\n",
      "1. Inspect your DataFrame: does everything look as expected? Do you need to add/drop a constant (intercept) column?\n",
      "2. Is there high-collinearity in the dataset? Try using the variance inflation factor (VIF) to find redundant variables.\n",
      "3. Trying adding a small penalizer (or changing it, if already present). Example: `ParametricSplinePHFitter(penalizer=0.01).fit(...)`.\n",
      "4. Are there any extreme outliers? Try modeling them or dropping them to see if it helps convergence.\n",
      "\n",
      "  warnings.warn(warning_text, exceptions.ApproximationWarning)\n",
      "/Users/RobertSmith/data-science-projects/CustomerChurn/venv/lib/python3.8/site-packages/lifelines/fitters/__init__.py:2001: StatisticalWarning: The diagonal of the variance_matrix_ has negative values. This could be a problem with ParametricSplinePHFitter's fit to the data.\n",
      "\n",
      "It's advisable to not trust the variances reported, and to be suspicious of the fitted parameters too.\n",
      "\n",
      "  warnings.warn(warning_text, exceptions.StatisticalWarning)\n",
      "/Users/RobertSmith/data-science-projects/CustomerChurn/venv/lib/python3.8/site-packages/lifelines/fitters/__init__.py:2395: ApproximationWarning: Approximating the expected value using trapezoid rule.\n",
      "\n",
      "  warnings.warn(\"\"\"Approximating the expected value using trapezoid rule.\\n\"\"\", exceptions.ApproximationWarning)\n",
      "/Users/RobertSmith/data-science-projects/CustomerChurn/venv/lib/python3.8/site-packages/lifelines/fitters/__init__.py:1990: ApproximationWarning: The Hessian was not invertible. We will instead approximate it using the pseudo-inverse.\n",
      "\n",
      "It's advisable to not trust the variances reported, and to be suspicious of the fitted parameters too.\n",
      "\n",
      "Some ways to possible ways fix this:\n",
      "\n",
      "0. Are there any lifelines warnings outputted during the `fit`?\n",
      "1. Inspect your DataFrame: does everything look as expected? Do you need to add/drop a constant (intercept) column?\n",
      "2. Is there high-collinearity in the dataset? Try using the variance inflation factor (VIF) to find redundant variables.\n",
      "3. Trying adding a small penalizer (or changing it, if already present). Example: `ParametricSplinePHFitter(penalizer=0.01).fit(...)`.\n",
      "4. Are there any extreme outliers? Try modeling them or dropping them to see if it helps convergence.\n",
      "\n",
      "  warnings.warn(warning_text, exceptions.ApproximationWarning)\n",
      "/Users/RobertSmith/data-science-projects/CustomerChurn/venv/lib/python3.8/site-packages/lifelines/fitters/__init__.py:2395: ApproximationWarning: Approximating the expected value using trapezoid rule.\n",
      "\n",
      "  warnings.warn(\"\"\"Approximating the expected value using trapezoid rule.\\n\"\"\", exceptions.ApproximationWarning)\n",
      "/Users/RobertSmith/data-science-projects/CustomerChurn/venv/lib/python3.8/site-packages/lifelines/fitters/__init__.py:1990: ApproximationWarning: The Hessian was not invertible. We will instead approximate it using the pseudo-inverse.\n",
      "\n",
      "It's advisable to not trust the variances reported, and to be suspicious of the fitted parameters too.\n",
      "\n",
      "Some ways to possible ways fix this:\n",
      "\n",
      "0. Are there any lifelines warnings outputted during the `fit`?\n",
      "1. Inspect your DataFrame: does everything look as expected? Do you need to add/drop a constant (intercept) column?\n",
      "2. Is there high-collinearity in the dataset? Try using the variance inflation factor (VIF) to find redundant variables.\n",
      "3. Trying adding a small penalizer (or changing it, if already present). Example: `ParametricSplinePHFitter(penalizer=0.01).fit(...)`.\n",
      "4. Are there any extreme outliers? Try modeling them or dropping them to see if it helps convergence.\n",
      "\n",
      "  warnings.warn(warning_text, exceptions.ApproximationWarning)\n",
      "/Users/RobertSmith/data-science-projects/CustomerChurn/venv/lib/python3.8/site-packages/lifelines/fitters/__init__.py:2395: ApproximationWarning: Approximating the expected value using trapezoid rule.\n",
      "\n",
      "  warnings.warn(\"\"\"Approximating the expected value using trapezoid rule.\\n\"\"\", exceptions.ApproximationWarning)\n",
      "/Users/RobertSmith/data-science-projects/CustomerChurn/venv/lib/python3.8/site-packages/lifelines/fitters/__init__.py:1990: ApproximationWarning: The Hessian was not invertible. We will instead approximate it using the pseudo-inverse.\n",
      "\n",
      "It's advisable to not trust the variances reported, and to be suspicious of the fitted parameters too.\n",
      "\n",
      "Some ways to possible ways fix this:\n",
      "\n",
      "0. Are there any lifelines warnings outputted during the `fit`?\n",
      "1. Inspect your DataFrame: does everything look as expected? Do you need to add/drop a constant (intercept) column?\n",
      "2. Is there high-collinearity in the dataset? Try using the variance inflation factor (VIF) to find redundant variables.\n",
      "3. Trying adding a small penalizer (or changing it, if already present). Example: `ParametricSplinePHFitter(penalizer=0.01).fit(...)`.\n",
      "4. Are there any extreme outliers? Try modeling them or dropping them to see if it helps convergence.\n",
      "\n",
      "  warnings.warn(warning_text, exceptions.ApproximationWarning)\n",
      "/Users/RobertSmith/data-science-projects/CustomerChurn/venv/lib/python3.8/site-packages/lifelines/fitters/__init__.py:2395: ApproximationWarning: Approximating the expected value using trapezoid rule.\n",
      "\n",
      "  warnings.warn(\"\"\"Approximating the expected value using trapezoid rule.\\n\"\"\", exceptions.ApproximationWarning)\n",
      "/Users/RobertSmith/data-science-projects/CustomerChurn/venv/lib/python3.8/site-packages/lifelines/fitters/__init__.py:1990: ApproximationWarning: The Hessian was not invertible. We will instead approximate it using the pseudo-inverse.\n",
      "\n",
      "It's advisable to not trust the variances reported, and to be suspicious of the fitted parameters too.\n",
      "\n",
      "Some ways to possible ways fix this:\n",
      "\n",
      "0. Are there any lifelines warnings outputted during the `fit`?\n",
      "1. Inspect your DataFrame: does everything look as expected? Do you need to add/drop a constant (intercept) column?\n",
      "2. Is there high-collinearity in the dataset? Try using the variance inflation factor (VIF) to find redundant variables.\n",
      "3. Trying adding a small penalizer (or changing it, if already present). Example: `ParametricSplinePHFitter(penalizer=0.01).fit(...)`.\n",
      "4. Are there any extreme outliers? Try modeling them or dropping them to see if it helps convergence.\n",
      "\n",
      "  warnings.warn(warning_text, exceptions.ApproximationWarning)\n",
      "/Users/RobertSmith/data-science-projects/CustomerChurn/venv/lib/python3.8/site-packages/lifelines/fitters/__init__.py:2395: ApproximationWarning: Approximating the expected value using trapezoid rule.\n",
      "\n",
      "  warnings.warn(\"\"\"Approximating the expected value using trapezoid rule.\\n\"\"\", exceptions.ApproximationWarning)\n",
      "/Users/RobertSmith/data-science-projects/CustomerChurn/venv/lib/python3.8/site-packages/lifelines/fitters/__init__.py:1990: ApproximationWarning: The Hessian was not invertible. We will instead approximate it using the pseudo-inverse.\n",
      "\n",
      "It's advisable to not trust the variances reported, and to be suspicious of the fitted parameters too.\n",
      "\n",
      "Some ways to possible ways fix this:\n",
      "\n",
      "0. Are there any lifelines warnings outputted during the `fit`?\n",
      "1. Inspect your DataFrame: does everything look as expected? Do you need to add/drop a constant (intercept) column?\n",
      "2. Is there high-collinearity in the dataset? Try using the variance inflation factor (VIF) to find redundant variables.\n",
      "3. Trying adding a small penalizer (or changing it, if already present). Example: `ParametricSplinePHFitter(penalizer=0.01).fit(...)`.\n",
      "4. Are there any extreme outliers? Try modeling them or dropping them to see if it helps convergence.\n",
      "\n",
      "  warnings.warn(warning_text, exceptions.ApproximationWarning)\n"
     ]
    },
    {
     "data": {
      "text/html": [
       "<div>\n",
       "<style scoped>\n",
       "    .dataframe tbody tr th:only-of-type {\n",
       "        vertical-align: middle;\n",
       "    }\n",
       "\n",
       "    .dataframe tbody tr th {\n",
       "        vertical-align: top;\n",
       "    }\n",
       "\n",
       "    .dataframe thead th {\n",
       "        text-align: right;\n",
       "    }\n",
       "</style>\n",
       "<table border=\"1\" class=\"dataframe\">\n",
       "  <thead>\n",
       "    <tr style=\"text-align: right;\">\n",
       "      <th></th>\n",
       "      <th>Model</th>\n",
       "      <th>Best Parameters</th>\n",
       "      <th>Train Concordance Index</th>\n",
       "      <th>Test Concordance Index</th>\n",
       "      <th>AIC</th>\n",
       "      <th>Test Log-Likelihood</th>\n",
       "    </tr>\n",
       "  </thead>\n",
       "  <tbody>\n",
       "    <tr>\n",
       "      <th>0</th>\n",
       "      <td>CPH</td>\n",
       "      <td>{'baseline_estimation_method': 'spline', 'pena...</td>\n",
       "      <td>0.678711</td>\n",
       "      <td>0.68158</td>\n",
       "      <td>233401.381094</td>\n",
       "      <td>-1.46269</td>\n",
       "    </tr>\n",
       "  </tbody>\n",
       "</table>\n",
       "</div>"
      ],
      "text/plain": [
       "  Model                                    Best Parameters  \\\n",
       "0   CPH  {'baseline_estimation_method': 'spline', 'pena...   \n",
       "\n",
       "   Train Concordance Index  Test Concordance Index            AIC  \\\n",
       "0                 0.678711                 0.68158  233401.381094   \n",
       "\n",
       "   Test Log-Likelihood  \n",
       "0             -1.46269  "
      ]
     },
     "execution_count": 26,
     "metadata": {},
     "output_type": "execute_result"
    }
   ],
   "source": [
    "# Instantiate the class\n",
    "cph_class = sklearn_adapter(CoxPHFitter, event_col='churn')\n",
    "cph_spline = cph_class(baseline_estimation_method=\"spline\")\n",
    "\n",
    "# Set-up parameter grid\n",
    "cph_params = {'n_baseline_knots': np.arange(2,7,1)} # based on suggestions in lifelines documentation\n",
    "    \n",
    "# Set-up 5-fold cross-validation grid search\n",
    "gcv = GridSearchCV(cph_spline, cph_params, return_train_score=True, cv=5)\n",
    "\n",
    "# Fit model\n",
    "gcv.fit(X_train, y_train)\n",
    "\n",
    "# Save model parameters and training concordance index\n",
    "params = gcv.best_estimator_.get_params()\n",
    "train_score = gcv.best_score_\n",
    "    \n",
    "# Check out-of-sample concordance index\n",
    "test_score = gcv.score(X_test,y_test)\n",
    "\n",
    "# Due to limitations of sklearn wrapper - the model will be re-instantiated using lifelines\n",
    "cph_model = CoxPHFitter(baseline_estimation_method=params[\"baseline_estimation_method\"],\n",
    "                        n_baseline_knots = params[\"n_baseline_knots\"])\n",
    "\n",
    "cph_model.fit(pd.concat([X_train,y_train], axis = 1), duration_col = \"tenure\", event_col = \"churn\")\n",
    "    \n",
    "# Save AIC \n",
    "aic = cph_model.AIC_\n",
    "\n",
    "# Get log-likelihood score on test set\n",
    "log_likelihood_test_score = cph_model.score(pd.concat([X_test, y_test], axis = 1))\n",
    "    \n",
    "cph_results = [\"CPH\", params, train_score, test_score, aic, log_likelihood_test_score]\n",
    "col_names = [\"Model\", \"Best Parameters\", \"Train Concordance Index\", \n",
    "           \"Test Concordance Index\", \"AIC\", \"Test Log-Likelihood\"]\n",
    "\n",
    "pd.DataFrame([cph_results], columns = col_names)"
   ]
  },
  {
   "cell_type": "code",
   "execution_count": 27,
   "metadata": {},
   "outputs": [
    {
     "data": {
      "text/html": [
       "<div>\n",
       "<style scoped>\n",
       "    .dataframe tbody tr th:only-of-type {\n",
       "        vertical-align: middle;\n",
       "    }\n",
       "\n",
       "    .dataframe tbody tr th {\n",
       "        vertical-align: top;\n",
       "    }\n",
       "\n",
       "    .dataframe thead th {\n",
       "        text-align: right;\n",
       "    }\n",
       "</style>\n",
       "<table border=\"1\" class=\"dataframe\">\n",
       "  <tbody>\n",
       "    <tr>\n",
       "      <th>model</th>\n",
       "      <td>lifelines.CoxPHFitter</td>\n",
       "    </tr>\n",
       "    <tr>\n",
       "      <th>duration col</th>\n",
       "      <td>'tenure'</td>\n",
       "    </tr>\n",
       "    <tr>\n",
       "      <th>event col</th>\n",
       "      <td>'churn'</td>\n",
       "    </tr>\n",
       "    <tr>\n",
       "      <th>number of baseline knots</th>\n",
       "      <td>3</td>\n",
       "    </tr>\n",
       "    <tr>\n",
       "      <th>baseline estimation</th>\n",
       "      <td>spline</td>\n",
       "    </tr>\n",
       "    <tr>\n",
       "      <th>number of observations</th>\n",
       "      <td>79955</td>\n",
       "    </tr>\n",
       "    <tr>\n",
       "      <th>number of events observed</th>\n",
       "      <td>73983</td>\n",
       "    </tr>\n",
       "    <tr>\n",
       "      <th>log-likelihood</th>\n",
       "      <td>-116685.69</td>\n",
       "    </tr>\n",
       "    <tr>\n",
       "      <th>time fit was run</th>\n",
       "      <td>2020-09-04 02:27:17 UTC</td>\n",
       "    </tr>\n",
       "  </tbody>\n",
       "</table>\n",
       "</div><table border=\"1\" class=\"dataframe\">\n",
       "  <thead>\n",
       "    <tr style=\"text-align: right;\">\n",
       "      <th style=\"min-width: 12px;\"></th>\n",
       "      <th style=\"min-width: 12px;\"></th>\n",
       "      <th style=\"min-width: 12px;\">coef</th>\n",
       "      <th style=\"min-width: 12px;\">exp(coef)</th>\n",
       "      <th style=\"min-width: 12px;\">se(coef)</th>\n",
       "      <th style=\"min-width: 12px;\">coef lower 95%</th>\n",
       "      <th style=\"min-width: 12px;\">coef upper 95%</th>\n",
       "      <th style=\"min-width: 12px;\">exp(coef) lower 95%</th>\n",
       "      <th style=\"min-width: 12px;\">exp(coef) upper 95%</th>\n",
       "      <th style=\"min-width: 12px;\">z</th>\n",
       "      <th style=\"min-width: 12px;\">p</th>\n",
       "      <th style=\"min-width: 12px;\">-log2(p)</th>\n",
       "    </tr>\n",
       "  </thead>\n",
       "  <tbody>\n",
       "    <tr>\n",
       "      <th rowspan=\"12\" valign=\"top\">beta_</th>\n",
       "      <th>tier_Platinum</th>\n",
       "      <td>0.55</td>\n",
       "      <td>1.73</td>\n",
       "      <td>0.01</td>\n",
       "      <td>0.52</td>\n",
       "      <td>0.57</td>\n",
       "      <td>1.69</td>\n",
       "      <td>1.77</td>\n",
       "      <td>45.59</td>\n",
       "      <td>&lt;0.005</td>\n",
       "      <td>inf</td>\n",
       "    </tr>\n",
       "    <tr>\n",
       "      <th>tier_Silver</th>\n",
       "      <td>-0.78</td>\n",
       "      <td>0.46</td>\n",
       "      <td>0.01</td>\n",
       "      <td>-0.80</td>\n",
       "      <td>-0.77</td>\n",
       "      <td>0.45</td>\n",
       "      <td>0.46</td>\n",
       "      <td>-85.29</td>\n",
       "      <td>&lt;0.005</td>\n",
       "      <td>inf</td>\n",
       "    </tr>\n",
       "    <tr>\n",
       "      <th>country_France</th>\n",
       "      <td>0.54</td>\n",
       "      <td>1.72</td>\n",
       "      <td>0.02</td>\n",
       "      <td>0.50</td>\n",
       "      <td>0.58</td>\n",
       "      <td>1.65</td>\n",
       "      <td>1.78</td>\n",
       "      <td>28.37</td>\n",
       "      <td>&lt;0.005</td>\n",
       "      <td>585.88</td>\n",
       "    </tr>\n",
       "    <tr>\n",
       "      <th>country_Germany</th>\n",
       "      <td>0.15</td>\n",
       "      <td>1.16</td>\n",
       "      <td>0.02</td>\n",
       "      <td>0.11</td>\n",
       "      <td>0.18</td>\n",
       "      <td>1.12</td>\n",
       "      <td>1.20</td>\n",
       "      <td>8.23</td>\n",
       "      <td>&lt;0.005</td>\n",
       "      <td>52.25</td>\n",
       "    </tr>\n",
       "    <tr>\n",
       "      <th>country_Italy</th>\n",
       "      <td>0.54</td>\n",
       "      <td>1.71</td>\n",
       "      <td>0.02</td>\n",
       "      <td>0.50</td>\n",
       "      <td>0.57</td>\n",
       "      <td>1.64</td>\n",
       "      <td>1.77</td>\n",
       "      <td>27.81</td>\n",
       "      <td>&lt;0.005</td>\n",
       "      <td>562.86</td>\n",
       "    </tr>\n",
       "    <tr>\n",
       "      <th>country_Netherlands</th>\n",
       "      <td>0.10</td>\n",
       "      <td>1.10</td>\n",
       "      <td>0.02</td>\n",
       "      <td>0.06</td>\n",
       "      <td>0.14</td>\n",
       "      <td>1.06</td>\n",
       "      <td>1.15</td>\n",
       "      <td>5.03</td>\n",
       "      <td>&lt;0.005</td>\n",
       "      <td>20.95</td>\n",
       "    </tr>\n",
       "    <tr>\n",
       "      <th>country_Spain</th>\n",
       "      <td>0.55</td>\n",
       "      <td>1.73</td>\n",
       "      <td>0.02</td>\n",
       "      <td>0.51</td>\n",
       "      <td>0.59</td>\n",
       "      <td>1.67</td>\n",
       "      <td>1.80</td>\n",
       "      <td>28.28</td>\n",
       "      <td>&lt;0.005</td>\n",
       "      <td>582.18</td>\n",
       "    </tr>\n",
       "    <tr>\n",
       "      <th>country_UK</th>\n",
       "      <td>0.17</td>\n",
       "      <td>1.18</td>\n",
       "      <td>0.02</td>\n",
       "      <td>0.13</td>\n",
       "      <td>0.20</td>\n",
       "      <td>1.14</td>\n",
       "      <td>1.22</td>\n",
       "      <td>9.36</td>\n",
       "      <td>&lt;0.005</td>\n",
       "      <td>66.81</td>\n",
       "    </tr>\n",
       "    <tr>\n",
       "      <th>country_US</th>\n",
       "      <td>0.16</td>\n",
       "      <td>1.17</td>\n",
       "      <td>0.02</td>\n",
       "      <td>0.12</td>\n",
       "      <td>0.19</td>\n",
       "      <td>1.13</td>\n",
       "      <td>1.21</td>\n",
       "      <td>8.87</td>\n",
       "      <td>&lt;0.005</td>\n",
       "      <td>60.25</td>\n",
       "    </tr>\n",
       "    <tr>\n",
       "      <th>source_partnerships</th>\n",
       "      <td>-0.62</td>\n",
       "      <td>0.54</td>\n",
       "      <td>0.01</td>\n",
       "      <td>-0.64</td>\n",
       "      <td>-0.59</td>\n",
       "      <td>0.53</td>\n",
       "      <td>0.55</td>\n",
       "      <td>-52.49</td>\n",
       "      <td>&lt;0.005</td>\n",
       "      <td>inf</td>\n",
       "    </tr>\n",
       "    <tr>\n",
       "      <th>source_referral</th>\n",
       "      <td>-1.29</td>\n",
       "      <td>0.28</td>\n",
       "      <td>0.02</td>\n",
       "      <td>-1.33</td>\n",
       "      <td>-1.25</td>\n",
       "      <td>0.27</td>\n",
       "      <td>0.29</td>\n",
       "      <td>-64.17</td>\n",
       "      <td>&lt;0.005</td>\n",
       "      <td>inf</td>\n",
       "    </tr>\n",
       "    <tr>\n",
       "      <th>Intercept</th>\n",
       "      <td>-1.54</td>\n",
       "      <td>0.22</td>\n",
       "      <td>0.02</td>\n",
       "      <td>-1.57</td>\n",
       "      <td>-1.50</td>\n",
       "      <td>0.21</td>\n",
       "      <td>0.22</td>\n",
       "      <td>-91.37</td>\n",
       "      <td>&lt;0.005</td>\n",
       "      <td>inf</td>\n",
       "    </tr>\n",
       "    <tr>\n",
       "      <th>phi1_</th>\n",
       "      <th>Intercept</th>\n",
       "      <td>2.54</td>\n",
       "      <td>12.70</td>\n",
       "      <td>0.01</td>\n",
       "      <td>2.52</td>\n",
       "      <td>2.56</td>\n",
       "      <td>12.48</td>\n",
       "      <td>12.92</td>\n",
       "      <td>284.38</td>\n",
       "      <td>&lt;0.005</td>\n",
       "      <td>inf</td>\n",
       "    </tr>\n",
       "    <tr>\n",
       "      <th>phi2_</th>\n",
       "      <th>Intercept</th>\n",
       "      <td>-0.05</td>\n",
       "      <td>0.95</td>\n",
       "      <td>0.00</td>\n",
       "      <td>-0.05</td>\n",
       "      <td>-0.05</td>\n",
       "      <td>0.95</td>\n",
       "      <td>0.95</td>\n",
       "      <td>-inf</td>\n",
       "      <td>&lt;0.005</td>\n",
       "      <td>inf</td>\n",
       "    </tr>\n",
       "    <tr>\n",
       "      <th>phi3_</th>\n",
       "      <th>Intercept</th>\n",
       "      <td>0.89</td>\n",
       "      <td>2.43</td>\n",
       "      <td>0.00</td>\n",
       "      <td>0.88</td>\n",
       "      <td>0.90</td>\n",
       "      <td>2.41</td>\n",
       "      <td>2.46</td>\n",
       "      <td>179.80</td>\n",
       "      <td>&lt;0.005</td>\n",
       "      <td>inf</td>\n",
       "    </tr>\n",
       "  </tbody>\n",
       "</table><br><div>\n",
       "<style scoped>\n",
       "    .dataframe tbody tr th:only-of-type {\n",
       "        vertical-align: middle;\n",
       "    }\n",
       "\n",
       "    .dataframe tbody tr th {\n",
       "        vertical-align: top;\n",
       "    }\n",
       "\n",
       "    .dataframe thead th {\n",
       "        text-align: right;\n",
       "    }\n",
       "</style>\n",
       "<table border=\"1\" class=\"dataframe\">\n",
       "  <tbody>\n",
       "    <tr>\n",
       "      <th>AIC</th>\n",
       "      <td>233401.38</td>\n",
       "    </tr>\n",
       "    <tr>\n",
       "      <th>log-likelihood ratio test</th>\n",
       "      <td>20868.80 on 11 df</td>\n",
       "    </tr>\n",
       "    <tr>\n",
       "      <th>-log2(p) of ll-ratio test</th>\n",
       "      <td>inf</td>\n",
       "    </tr>\n",
       "  </tbody>\n",
       "</table>\n",
       "</div>"
      ],
      "text/latex": [
       "\\begin{tabular}{llrrrrrrrrrr}\n",
       "\\toprule\n",
       "      &           &  coef &  exp(coef) &  se(coef) &  coef lower 95\\% &  coef upper 95\\% &  exp(coef) lower 95\\% &  exp(coef) upper 95\\% &      z &    p &  -log2(p) \\\\\n",
       "param & covariate &       &            &           &                 &                 &                      &                      &        &      &           \\\\\n",
       "\\midrule\n",
       "beta\\_ & tier\\_Platinum &  0.55 &       1.73 &      0.01 &            0.52 &            0.57 &                 1.69 &                 1.77 &  45.59 & 0.00 &       inf \\\\\n",
       "      & tier\\_Silver & -0.78 &       0.46 &      0.01 &           -0.80 &           -0.77 &                 0.45 &                 0.46 & -85.29 & 0.00 &       inf \\\\\n",
       "      & country\\_France &  0.54 &       1.72 &      0.02 &            0.50 &            0.58 &                 1.65 &                 1.78 &  28.37 & 0.00 &    585.88 \\\\\n",
       "      & country\\_Germany &  0.15 &       1.16 &      0.02 &            0.11 &            0.18 &                 1.12 &                 1.20 &   8.23 & 0.00 &     52.25 \\\\\n",
       "      & country\\_Italy &  0.54 &       1.71 &      0.02 &            0.50 &            0.57 &                 1.64 &                 1.77 &  27.81 & 0.00 &    562.86 \\\\\n",
       "      & country\\_Netherlands &  0.10 &       1.10 &      0.02 &            0.06 &            0.14 &                 1.06 &                 1.15 &   5.03 & 0.00 &     20.95 \\\\\n",
       "      & country\\_Spain &  0.55 &       1.73 &      0.02 &            0.51 &            0.59 &                 1.67 &                 1.80 &  28.28 & 0.00 &    582.18 \\\\\n",
       "      & country\\_UK &  0.17 &       1.18 &      0.02 &            0.13 &            0.20 &                 1.14 &                 1.22 &   9.36 & 0.00 &     66.81 \\\\\n",
       "      & country\\_US &  0.16 &       1.17 &      0.02 &            0.12 &            0.19 &                 1.13 &                 1.21 &   8.87 & 0.00 &     60.25 \\\\\n",
       "      & source\\_partnerships & -0.62 &       0.54 &      0.01 &           -0.64 &           -0.59 &                 0.53 &                 0.55 & -52.49 & 0.00 &       inf \\\\\n",
       "      & source\\_referral & -1.29 &       0.28 &      0.02 &           -1.33 &           -1.25 &                 0.27 &                 0.29 & -64.17 & 0.00 &       inf \\\\\n",
       "      & Intercept & -1.54 &       0.22 &      0.02 &           -1.57 &           -1.50 &                 0.21 &                 0.22 & -91.37 & 0.00 &       inf \\\\\n",
       "phi1\\_ & Intercept &  2.54 &      12.70 &      0.01 &            2.52 &            2.56 &                12.48 &                12.92 & 284.38 & 0.00 &       inf \\\\\n",
       "phi2\\_ & Intercept & -0.05 &       0.95 &      0.00 &           -0.05 &           -0.05 &                 0.95 &                 0.95 &   -inf & 0.00 &       inf \\\\\n",
       "phi3\\_ & Intercept &  0.89 &       2.43 &      0.00 &            0.88 &            0.90 &                 2.41 &                 2.46 & 179.80 & 0.00 &       inf \\\\\n",
       "\\bottomrule\n",
       "\\end{tabular}\n"
      ],
      "text/plain": [
       "<lifelines.CoxPHFitter: fitted with 79955 total observations, 5972 right-censored observations>\n",
       "             duration col = 'tenure'\n",
       "                event col = 'churn'\n",
       " number of baseline knots = 3\n",
       "      baseline estimation = spline\n",
       "   number of observations = 79955\n",
       "number of events observed = 73983\n",
       "           log-likelihood = -116685.69\n",
       "         time fit was run = 2020-09-04 02:27:17 UTC\n",
       "\n",
       "---\n",
       "                            coef  exp(coef)   se(coef)   coef lower 95%   coef upper 95%  exp(coef) lower 95%  exp(coef) upper 95%\n",
       "param covariate                                                                                                                   \n",
       "beta_ tier_Platinum         0.55       1.73       0.01             0.52             0.57                 1.69                 1.77\n",
       "      tier_Silver          -0.78       0.46       0.01            -0.80            -0.77                 0.45                 0.46\n",
       "      country_France        0.54       1.72       0.02             0.50             0.58                 1.65                 1.78\n",
       "      country_Germany       0.15       1.16       0.02             0.11             0.18                 1.12                 1.20\n",
       "      country_Italy         0.54       1.71       0.02             0.50             0.57                 1.64                 1.77\n",
       "      country_Netherlands   0.10       1.10       0.02             0.06             0.14                 1.06                 1.15\n",
       "      country_Spain         0.55       1.73       0.02             0.51             0.59                 1.67                 1.80\n",
       "      country_UK            0.17       1.18       0.02             0.13             0.20                 1.14                 1.22\n",
       "      country_US            0.16       1.17       0.02             0.12             0.19                 1.13                 1.21\n",
       "      source_partnerships  -0.62       0.54       0.01            -0.64            -0.59                 0.53                 0.55\n",
       "      source_referral      -1.29       0.28       0.02            -1.33            -1.25                 0.27                 0.29\n",
       "      Intercept            -1.54       0.22       0.02            -1.57            -1.50                 0.21                 0.22\n",
       "phi1_ Intercept             2.54      12.70       0.01             2.52             2.56                12.48                12.92\n",
       "phi2_ Intercept            -0.05       0.95       0.00            -0.05            -0.05                 0.95                 0.95\n",
       "phi3_ Intercept             0.89       2.43       0.00             0.88             0.90                 2.41                 2.46\n",
       "                               z      p   -log2(p)\n",
       "param covariate                                   \n",
       "beta_ tier_Platinum        45.59 <0.005        inf\n",
       "      tier_Silver         -85.29 <0.005        inf\n",
       "      country_France       28.37 <0.005     585.88\n",
       "      country_Germany       8.23 <0.005      52.25\n",
       "      country_Italy        27.81 <0.005     562.86\n",
       "      country_Netherlands   5.03 <0.005      20.95\n",
       "      country_Spain        28.28 <0.005     582.18\n",
       "      country_UK            9.36 <0.005      66.81\n",
       "      country_US            8.87 <0.005      60.25\n",
       "      source_partnerships -52.49 <0.005        inf\n",
       "      source_referral     -64.17 <0.005        inf\n",
       "      Intercept           -91.37 <0.005        inf\n",
       "phi1_ Intercept           284.38 <0.005        inf\n",
       "phi2_ Intercept             -inf <0.005        inf\n",
       "phi3_ Intercept           179.80 <0.005        inf\n",
       "---\n",
       "AIC = 233401.38\n",
       "log-likelihood ratio test = 20868.80 on 11 df\n",
       "-log2(p) of ll-ratio test = inf"
      ]
     },
     "metadata": {},
     "output_type": "display_data"
    }
   ],
   "source": [
    "cph_model.print_summary()"
   ]
  },
  {
   "cell_type": "markdown",
   "metadata": {},
   "source": [
    "The concordance indices are approximately the same between the two methods, but the AIC and log-likelihood metrics are better for the modified cox proportional hazards model. Comparing the coefficients to the univariate Kaplan Meier curves, the modified cox proportional hazard coefficients don't make intuitive sense. The Silver tier has the highest survival rate, but the coefficient of -0.78 indicates a 54% decrease in the mean/median survival time below baseline. A similar characteristic can be seen for customers referrals. Furthermore, the warnings for the modified cox proportional hazards model promote skepticism of the results. **In an effort to balance accuracy and interpretability, the Weibull model will be used for forecasting.** \n",
    "\n",
    "## Q3: What impact does the tier, country, and source of a customer have on their tenure and risk of customer churn?\n",
    "\n",
    "The impact of the various customer attributes are measured relative to the baseline attributes in the model and their mean/median survival times. "
   ]
  },
  {
   "cell_type": "code",
   "execution_count": 28,
   "metadata": {},
   "outputs": [
    {
     "name": "stdout",
     "output_type": "stream",
     "text": [
      " The median model survival time of the Weibull model is: 1.65 months.\n",
      " The mean model survival time of the Weibull model is: 2.0 months.\n"
     ]
    }
   ],
   "source": [
    "print(f\" The median model survival time of the Weibull model is: {round(aft_model.median_survival_time_,2)} months.\")\n",
    "print(f\" The mean model survival time of the Weibull model is: {round(aft_model.mean_survival_time_,2)} months.\")"
   ]
  },
  {
   "cell_type": "markdown",
   "metadata": {},
   "source": [
    "### Tier\n",
    "The baseline tier in the model is gold, meaning the coefficients in the model are relative to the gold tier. Customers in the platinum tier have a 28% lower median/mean enrollment time, whereas customers in the silver tier have a 97% longer mean/median enrollment time relative to the gold tier. \n",
    "\n",
    "The plot below shows how the customer tier impacts tenure, accounting for the other covariates."
   ]
  },
  {
   "cell_type": "code",
   "execution_count": 29,
   "metadata": {},
   "outputs": [
    {
     "data": {
      "image/png": "[encoded data removed]",
      "text/plain": [
       "<Figure size 1008x432 with 1 Axes>"
      ]
     },
     "metadata": {
      "needs_background": "light"
     },
     "output_type": "display_data"
    }
   ],
   "source": [
    "plt.figure(figsize = (14,6))\n",
    "aft_model.plot_partial_effects_on_outcome([\"tier_Platinum\", \"tier_Silver\"], values=[[0,1],[1,0]])\n",
    "plt.title(\"Partial Effects of Customer Tier on Tenure\")\n",
    "plt.ylabel(\"Probabilty of Survival\")\n",
    "plt.xlabel(\"Months\");"
   ]
  },
  {
   "cell_type": "markdown",
   "metadata": {},
   "source": [
    "### Country \n",
    "The baseline country in the model is Canada. All countries have the same or lower tenure except for the Netherlands, which has a 7% longer mean/median enrollment. Spain has the lowest tenure, which is 22% lower than the mean/median baseline enrollment. The UK, US, and Germany have similar tenure as those from Canada.\n",
    "\n",
    "The plot below shows the impact of some of the countries on tenure, accounting for the other covariates."
   ]
  },
  {
   "cell_type": "code",
   "execution_count": 30,
   "metadata": {},
   "outputs": [
    {
     "data": {
      "image/png": "[encoded data removed]",
      "text/plain": [
       "<Figure size 1008x432 with 1 Axes>"
      ]
     },
     "metadata": {
      "needs_background": "light"
     },
     "output_type": "display_data"
    }
   ],
   "source": [
    "plt.figure(figsize = (14,6))\n",
    "aft_model.plot_partial_effects_on_outcome([\"country_Spain\", \"country_Netherlands\"], values=[[0,1],[1,0]])\n",
    "plt.title(\"Partial Effects of a Customer's Country on Tenure\")\n",
    "plt.ylabel(\"Probabilty of Survival\")\n",
    "plt.xlabel(\"Months\")\n",
    "plt.legend(loc = \"upper right\");"
   ]
  },
  {
   "cell_type": "markdown",
   "metadata": {},
   "source": [
    "### Source\n",
    "The baseline source in the model is organic. Customers sourced from both referrals and partnerships had significantly longer enrollment periods compared to those that enrolled organically. Referrals had a 172% longer mean/median enrollment, whereas partnership customers had enrollments that were 60% longer. \n",
    "\n",
    "The plot below shows how the customer source impacts tenure, accounting for the other covariates."
   ]
  },
  {
   "cell_type": "code",
   "execution_count": 31,
   "metadata": {},
   "outputs": [
    {
     "data": {
      "image/png": "[encoded data removed]",
      "text/plain": [
       "<Figure size 1008x432 with 1 Axes>"
      ]
     },
     "metadata": {
      "needs_background": "light"
     },
     "output_type": "display_data"
    }
   ],
   "source": [
    "plt.figure(figsize = (14,6))\n",
    "aft_model.plot_partial_effects_on_outcome([\"source_referral\", \"source_partnerships\"], values=[[0,1],[1,0]])\n",
    "plt.title(\"Partial Effects of Customer Source on Tenure\")\n",
    "plt.ylabel(\"Probabilty of Survival\")\n",
    "plt.xlabel(\"Months\")\n",
    "plt.legend(loc = \"upper right\");"
   ]
  },
  {
   "cell_type": "markdown",
   "metadata": {},
   "source": [
    "## Q4: How many currently active subscriptions will still be active over the next three months (e.g. month 9, 10, 11)?"
   ]
  },
  {
   "cell_type": "code",
   "execution_count": 32,
   "metadata": {},
   "outputs": [
    {
     "data": {
      "text/plain": [
       "(7492, 12)"
      ]
     },
     "execution_count": 32,
     "metadata": {},
     "output_type": "execute_result"
    }
   ],
   "source": [
    "# filter down to just censored subjects to predict remaining survival\n",
    "censored_subjects = X[~X['churn']]\n",
    "censored_subjects_last_obs = y[~X['churn']]\n",
    "censored_subjects.shape"
   ]
  },
  {
   "cell_type": "code",
   "execution_count": 33,
   "metadata": {},
   "outputs": [],
   "source": [
    "# Predict the survival probability for the next three months for these active/censored customers\n",
    "preds = aft_model.predict_survival_function(censored_subjects, \n",
    "                                     times = np.arange(1,4,1),\n",
    "                                     conditional_after = censored_subjects_last_obs)"
   ]
  },
  {
   "cell_type": "code",
   "execution_count": 34,
   "metadata": {},
   "outputs": [
    {
     "data": {
      "text/html": [
       "<div>\n",
       "<style scoped>\n",
       "    .dataframe tbody tr th:only-of-type {\n",
       "        vertical-align: middle;\n",
       "    }\n",
       "\n",
       "    .dataframe tbody tr th {\n",
       "        vertical-align: top;\n",
       "    }\n",
       "\n",
       "    .dataframe thead th {\n",
       "        text-align: right;\n",
       "    }\n",
       "</style>\n",
       "<table border=\"1\" class=\"dataframe\">\n",
       "  <thead>\n",
       "    <tr style=\"text-align: right;\">\n",
       "      <th></th>\n",
       "      <th>8</th>\n",
       "      <th>19</th>\n",
       "      <th>28</th>\n",
       "      <th>30</th>\n",
       "      <th>31</th>\n",
       "    </tr>\n",
       "  </thead>\n",
       "  <tbody>\n",
       "    <tr>\n",
       "      <th>1.0</th>\n",
       "      <td>0.770751</td>\n",
       "      <td>0.694711</td>\n",
       "      <td>0.694711</td>\n",
       "      <td>0.770751</td>\n",
       "      <td>0.617121</td>\n",
       "    </tr>\n",
       "    <tr>\n",
       "      <th>2.0</th>\n",
       "      <td>0.588973</td>\n",
       "      <td>0.476856</td>\n",
       "      <td>0.476856</td>\n",
       "      <td>0.588973</td>\n",
       "      <td>0.374820</td>\n",
       "    </tr>\n",
       "    <tr>\n",
       "      <th>3.0</th>\n",
       "      <td>0.446456</td>\n",
       "      <td>0.323651</td>\n",
       "      <td>0.323651</td>\n",
       "      <td>0.446456</td>\n",
       "      <td>0.224279</td>\n",
       "    </tr>\n",
       "  </tbody>\n",
       "</table>\n",
       "</div>"
      ],
      "text/plain": [
       "           8         19        28        30        31\n",
       "1.0  0.770751  0.694711  0.694711  0.770751  0.617121\n",
       "2.0  0.588973  0.476856  0.476856  0.588973  0.374820\n",
       "3.0  0.446456  0.323651  0.323651  0.446456  0.224279"
      ]
     },
     "execution_count": 34,
     "metadata": {},
     "output_type": "execute_result"
    }
   ],
   "source": [
    "# Look at survival probabilities for five active customers\n",
    "preds.iloc[:,0:5]"
   ]
  },
  {
   "cell_type": "code",
   "execution_count": 35,
   "metadata": {},
   "outputs": [
    {
     "name": "stdout",
     "output_type": "stream",
     "text": [
      "1.0    5114.0\n",
      "2.0    3578.0\n",
      "3.0    2552.0\n",
      "dtype: float64\n"
     ]
    }
   ],
   "source": [
    "# Calculate the average survival probabiliy by month, multiply by the number of active customers, and round to\n",
    "# the nearest customer\n",
    "enrollment_predictions = round(preds.mean(axis = 1)*censored_subjects.shape[0],0)\n",
    "print(enrollment_predictions)"
   ]
  },
  {
   "cell_type": "code",
   "execution_count": 36,
   "metadata": {},
   "outputs": [],
   "source": [
    "# Calculate number of \"churned\" customers by month\n",
    "customer_churn = df[\"tenure\"].value_counts()\n",
    "\n",
    "# Create list of months \n",
    "months = [month for month in range(12)]\n",
    "\n",
    "# Create previous_customers variable beginning with all customers\n",
    "previous_customers = len(df)\n",
    "\n",
    "# Create active customers list beginning with all customers\n",
    "active = [previous_customers]\n",
    "\n",
    "# Loop through each month, calculate remaining customers and append to active list\n",
    "for churn in range(1,len(customer_churn)):\n",
    "    remaining_customers = previous_customers - customer_churn[churn]\n",
    "    active.append(remaining_customers)\n",
    "    previous_customers = remaining_customers\n",
    "\n",
    "# Add predictions to active list\n",
    "for enrolled_customers in enrollment_predictions.values:\n",
    "    active.append(int(enrolled_customers))"
   ]
  },
  {
   "cell_type": "code",
   "execution_count": 37,
   "metadata": {},
   "outputs": [
    {
     "data": {
      "text/html": [
       "<div>\n",
       "<style scoped>\n",
       "    .dataframe tbody tr th:only-of-type {\n",
       "        vertical-align: middle;\n",
       "    }\n",
       "\n",
       "    .dataframe tbody tr th {\n",
       "        vertical-align: top;\n",
       "    }\n",
       "\n",
       "    .dataframe thead th {\n",
       "        text-align: right;\n",
       "    }\n",
       "</style>\n",
       "<table border=\"1\" class=\"dataframe\">\n",
       "  <thead>\n",
       "    <tr style=\"text-align: right;\">\n",
       "      <th></th>\n",
       "      <th>month</th>\n",
       "      <th>active customers</th>\n",
       "    </tr>\n",
       "  </thead>\n",
       "  <tbody>\n",
       "    <tr>\n",
       "      <th>0</th>\n",
       "      <td>0</td>\n",
       "      <td>99944</td>\n",
       "    </tr>\n",
       "    <tr>\n",
       "      <th>1</th>\n",
       "      <td>1</td>\n",
       "      <td>48554</td>\n",
       "    </tr>\n",
       "    <tr>\n",
       "      <th>2</th>\n",
       "      <td>2</td>\n",
       "      <td>28433</td>\n",
       "    </tr>\n",
       "    <tr>\n",
       "      <th>3</th>\n",
       "      <td>3</td>\n",
       "      <td>20508</td>\n",
       "    </tr>\n",
       "    <tr>\n",
       "      <th>4</th>\n",
       "      <td>4</td>\n",
       "      <td>16249</td>\n",
       "    </tr>\n",
       "    <tr>\n",
       "      <th>5</th>\n",
       "      <td>5</td>\n",
       "      <td>13528</td>\n",
       "    </tr>\n",
       "    <tr>\n",
       "      <th>6</th>\n",
       "      <td>6</td>\n",
       "      <td>11715</td>\n",
       "    </tr>\n",
       "    <tr>\n",
       "      <th>7</th>\n",
       "      <td>7</td>\n",
       "      <td>10356</td>\n",
       "    </tr>\n",
       "    <tr>\n",
       "      <th>8</th>\n",
       "      <td>8</td>\n",
       "      <td>7492</td>\n",
       "    </tr>\n",
       "    <tr>\n",
       "      <th>9</th>\n",
       "      <td>9</td>\n",
       "      <td>5114</td>\n",
       "    </tr>\n",
       "    <tr>\n",
       "      <th>10</th>\n",
       "      <td>10</td>\n",
       "      <td>3578</td>\n",
       "    </tr>\n",
       "    <tr>\n",
       "      <th>11</th>\n",
       "      <td>11</td>\n",
       "      <td>2552</td>\n",
       "    </tr>\n",
       "  </tbody>\n",
       "</table>\n",
       "</div>"
      ],
      "text/plain": [
       "    month  active customers\n",
       "0       0             99944\n",
       "1       1             48554\n",
       "2       2             28433\n",
       "3       3             20508\n",
       "4       4             16249\n",
       "5       5             13528\n",
       "6       6             11715\n",
       "7       7             10356\n",
       "8       8              7492\n",
       "9       9              5114\n",
       "10     10              3578\n",
       "11     11              2552"
      ]
     },
     "execution_count": 37,
     "metadata": {},
     "output_type": "execute_result"
    }
   ],
   "source": [
    "pd.DataFrame({\"month\":months, \"active customers\":active})"
   ]
  },
  {
   "cell_type": "code",
   "execution_count": 38,
   "metadata": {},
   "outputs": [
    {
     "data": {
      "image/png": "[encoded data removed]",
      "text/plain": [
       "<Figure size 1008x432 with 1 Axes>"
      ]
     },
     "metadata": {
      "needs_background": "light"
     },
     "output_type": "display_data"
    }
   ],
   "source": [
    "# Create plot with actual and forecasted enrollment\n",
    "\n",
    "plt.figure(figsize=(14,6))\n",
    "plt.plot(months[0:9],active[0:9])\n",
    "plt.plot(months[8:], active[8:])\n",
    "plt.legend([\"Actuals\",\"Forecast\"])\n",
    "plt.xlabel(\"Month\")\n",
    "plt.ylabel(\"Enrollment\")\n",
    "plt.title(\"# Active Customers by Month\");"
   ]
  },
  {
   "cell_type": "markdown",
   "metadata": {},
   "source": [
    "The total number of active customers drops from 7,492 after the first 8 months to 2,552 three months later. "
   ]
  },
  {
   "cell_type": "markdown",
   "metadata": {},
   "source": [
    "## Concluding Remarks"
   ]
  },
  {
   "cell_type": "markdown",
   "metadata": {},
   "source": [
    "Predicting churn rates beyond 9 months had highly variable results, depending on the model and selected hyperparameters. While the analysis above does provide estimates for months 9, 10, and 11, these estimates should be considered rough guides. As more data is collected in the coming months, the models should be re-run and calibrated to the actual churn results."
   ]
  },
  {
   "cell_type": "code",
   "execution_count": null,
   "metadata": {},
   "outputs": [],
   "source": []
  }
 ],
 "metadata": {
  "kernelspec": {
   "display_name": "Python 3",
   "language": "python",
   "name": "python3"
  },
  "language_info": {
   "codemirror_mode": {
    "name": "ipython",
    "version": 3
   },
   "file_extension": ".py",
   "mimetype": "text/x-python",
   "name": "python",
   "nbconvert_exporter": "python",
   "pygments_lexer": "ipython3",
   "version": "3.8.1"
  }
 },
 "nbformat": 4,
 "nbformat_minor": 2
}
